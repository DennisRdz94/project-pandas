{
 "cells": [
  {
   "cell_type": "code",
   "execution_count": 4,
   "id": "22769df4-0a2c-4476-92fb-e94f33666363",
   "metadata": {},
   "outputs": [],
   "source": [
    "import pandas as pd\n",
    "import numpy as np\n",
    "import os\n",
    "import base64"
   ]
  },
  {
   "cell_type": "code",
   "execution_count": 5,
   "id": "b29af207-9b5a-4cbf-8e80-4fa9044ed198",
   "metadata": {},
   "outputs": [],
   "source": [
    "df= pd.read_csv('attacks.csv', encoding = 'unicode_escape')"
   ]
  },
  {
   "cell_type": "markdown",
   "id": "6d1dca33-4a70-41c6-a08a-71b2568e7323",
   "metadata": {},
   "source": [
    "## Revisión y modificaciones generales"
   ]
  },
  {
   "cell_type": "code",
   "execution_count": 6,
   "id": "650e5a87-08d5-4c20-b296-08dce8498438",
   "metadata": {},
   "outputs": [
    {
     "data": {
      "text/plain": [
       "(25723, 24)"
      ]
     },
     "execution_count": 6,
     "metadata": {},
     "output_type": "execute_result"
    }
   ],
   "source": [
    "df.shape"
   ]
  },
  {
   "cell_type": "code",
   "execution_count": 7,
   "id": "0399c6a5-7ac8-449c-a181-20b08300a4d3",
   "metadata": {},
   "outputs": [
    {
     "name": "stdout",
     "output_type": "stream",
     "text": [
      "<class 'pandas.core.frame.DataFrame'>\n",
      "RangeIndex: 25723 entries, 0 to 25722\n",
      "Data columns (total 24 columns):\n",
      " #   Column                  Non-Null Count  Dtype  \n",
      "---  ------                  --------------  -----  \n",
      " 0   Case Number             8702 non-null   object \n",
      " 1   Date                    6302 non-null   object \n",
      " 2   Year                    6300 non-null   float64\n",
      " 3   Type                    6298 non-null   object \n",
      " 4   Country                 6252 non-null   object \n",
      " 5   Area                    5847 non-null   object \n",
      " 6   Location                5762 non-null   object \n",
      " 7   Activity                5758 non-null   object \n",
      " 8   Name                    6092 non-null   object \n",
      " 9   Sex                     5737 non-null   object \n",
      " 10  Age                     3471 non-null   object \n",
      " 11  Injury                  6274 non-null   object \n",
      " 12  Fatal (Y/N)             5763 non-null   object \n",
      " 13  Time                    2948 non-null   object \n",
      " 14  Species                 3464 non-null   object \n",
      " 15  Investigator or Source  6285 non-null   object \n",
      " 16  pdf                     6302 non-null   object \n",
      " 17  href formula            6301 non-null   object \n",
      " 18  href                    6302 non-null   object \n",
      " 19  Case Number.1           6302 non-null   object \n",
      " 20  Case Number.2           6302 non-null   object \n",
      " 21  original order          6309 non-null   float64\n",
      " 22  Unnamed: 22             1 non-null      object \n",
      " 23  Unnamed: 23             2 non-null      object \n",
      "dtypes: float64(2), object(22)\n",
      "memory usage: 4.7+ MB\n"
     ]
    }
   ],
   "source": [
    "df.info()"
   ]
  },
  {
   "cell_type": "code",
   "execution_count": 8,
   "id": "54f53014-94e2-4e57-9e54-08c1ffd7ed3a",
   "metadata": {},
   "outputs": [
    {
     "data": {
      "text/html": [
       "<div>\n",
       "<style scoped>\n",
       "    .dataframe tbody tr th:only-of-type {\n",
       "        vertical-align: middle;\n",
       "    }\n",
       "\n",
       "    .dataframe tbody tr th {\n",
       "        vertical-align: top;\n",
       "    }\n",
       "\n",
       "    .dataframe thead th {\n",
       "        text-align: right;\n",
       "    }\n",
       "</style>\n",
       "<table border=\"1\" class=\"dataframe\">\n",
       "  <thead>\n",
       "    <tr style=\"text-align: right;\">\n",
       "      <th></th>\n",
       "      <th>Case Number</th>\n",
       "      <th>Date</th>\n",
       "      <th>Year</th>\n",
       "      <th>Type</th>\n",
       "      <th>Country</th>\n",
       "      <th>Area</th>\n",
       "      <th>Location</th>\n",
       "      <th>Activity</th>\n",
       "      <th>Name</th>\n",
       "      <th>Sex</th>\n",
       "      <th>...</th>\n",
       "      <th>Species</th>\n",
       "      <th>Investigator or Source</th>\n",
       "      <th>pdf</th>\n",
       "      <th>href formula</th>\n",
       "      <th>href</th>\n",
       "      <th>Case Number.1</th>\n",
       "      <th>Case Number.2</th>\n",
       "      <th>original order</th>\n",
       "      <th>Unnamed: 22</th>\n",
       "      <th>Unnamed: 23</th>\n",
       "    </tr>\n",
       "  </thead>\n",
       "  <tbody>\n",
       "    <tr>\n",
       "      <th>0</th>\n",
       "      <td>2018.06.25</td>\n",
       "      <td>25-Jun-2018</td>\n",
       "      <td>2018.0</td>\n",
       "      <td>Boating</td>\n",
       "      <td>USA</td>\n",
       "      <td>California</td>\n",
       "      <td>Oceanside, San Diego County</td>\n",
       "      <td>Paddling</td>\n",
       "      <td>Julie Wolfe</td>\n",
       "      <td>F</td>\n",
       "      <td>...</td>\n",
       "      <td>White shark</td>\n",
       "      <td>R. Collier, GSAF</td>\n",
       "      <td>2018.06.25-Wolfe.pdf</td>\n",
       "      <td>http://sharkattackfile.net/spreadsheets/pdf_di...</td>\n",
       "      <td>http://sharkattackfile.net/spreadsheets/pdf_di...</td>\n",
       "      <td>2018.06.25</td>\n",
       "      <td>2018.06.25</td>\n",
       "      <td>6303.0</td>\n",
       "      <td>NaN</td>\n",
       "      <td>NaN</td>\n",
       "    </tr>\n",
       "    <tr>\n",
       "      <th>1</th>\n",
       "      <td>2018.06.18</td>\n",
       "      <td>18-Jun-2018</td>\n",
       "      <td>2018.0</td>\n",
       "      <td>Unprovoked</td>\n",
       "      <td>USA</td>\n",
       "      <td>Georgia</td>\n",
       "      <td>St. Simon Island, Glynn County</td>\n",
       "      <td>Standing</td>\n",
       "      <td>Adyson McNeely</td>\n",
       "      <td>F</td>\n",
       "      <td>...</td>\n",
       "      <td>NaN</td>\n",
       "      <td>K.McMurray, TrackingSharks.com</td>\n",
       "      <td>2018.06.18-McNeely.pdf</td>\n",
       "      <td>http://sharkattackfile.net/spreadsheets/pdf_di...</td>\n",
       "      <td>http://sharkattackfile.net/spreadsheets/pdf_di...</td>\n",
       "      <td>2018.06.18</td>\n",
       "      <td>2018.06.18</td>\n",
       "      <td>6302.0</td>\n",
       "      <td>NaN</td>\n",
       "      <td>NaN</td>\n",
       "    </tr>\n",
       "    <tr>\n",
       "      <th>2</th>\n",
       "      <td>2018.06.09</td>\n",
       "      <td>09-Jun-2018</td>\n",
       "      <td>2018.0</td>\n",
       "      <td>Invalid</td>\n",
       "      <td>USA</td>\n",
       "      <td>Hawaii</td>\n",
       "      <td>Habush, Oahu</td>\n",
       "      <td>Surfing</td>\n",
       "      <td>John Denges</td>\n",
       "      <td>M</td>\n",
       "      <td>...</td>\n",
       "      <td>NaN</td>\n",
       "      <td>K.McMurray, TrackingSharks.com</td>\n",
       "      <td>2018.06.09-Denges.pdf</td>\n",
       "      <td>http://sharkattackfile.net/spreadsheets/pdf_di...</td>\n",
       "      <td>http://sharkattackfile.net/spreadsheets/pdf_di...</td>\n",
       "      <td>2018.06.09</td>\n",
       "      <td>2018.06.09</td>\n",
       "      <td>6301.0</td>\n",
       "      <td>NaN</td>\n",
       "      <td>NaN</td>\n",
       "    </tr>\n",
       "    <tr>\n",
       "      <th>3</th>\n",
       "      <td>2018.06.08</td>\n",
       "      <td>08-Jun-2018</td>\n",
       "      <td>2018.0</td>\n",
       "      <td>Unprovoked</td>\n",
       "      <td>AUSTRALIA</td>\n",
       "      <td>New South Wales</td>\n",
       "      <td>Arrawarra Headland</td>\n",
       "      <td>Surfing</td>\n",
       "      <td>male</td>\n",
       "      <td>M</td>\n",
       "      <td>...</td>\n",
       "      <td>2 m shark</td>\n",
       "      <td>B. Myatt, GSAF</td>\n",
       "      <td>2018.06.08-Arrawarra.pdf</td>\n",
       "      <td>http://sharkattackfile.net/spreadsheets/pdf_di...</td>\n",
       "      <td>http://sharkattackfile.net/spreadsheets/pdf_di...</td>\n",
       "      <td>2018.06.08</td>\n",
       "      <td>2018.06.08</td>\n",
       "      <td>6300.0</td>\n",
       "      <td>NaN</td>\n",
       "      <td>NaN</td>\n",
       "    </tr>\n",
       "    <tr>\n",
       "      <th>4</th>\n",
       "      <td>2018.06.04</td>\n",
       "      <td>04-Jun-2018</td>\n",
       "      <td>2018.0</td>\n",
       "      <td>Provoked</td>\n",
       "      <td>MEXICO</td>\n",
       "      <td>Colima</td>\n",
       "      <td>La Ticla</td>\n",
       "      <td>Free diving</td>\n",
       "      <td>Gustavo Ramos</td>\n",
       "      <td>M</td>\n",
       "      <td>...</td>\n",
       "      <td>Tiger shark, 3m</td>\n",
       "      <td>A .Kipper</td>\n",
       "      <td>2018.06.04-Ramos.pdf</td>\n",
       "      <td>http://sharkattackfile.net/spreadsheets/pdf_di...</td>\n",
       "      <td>http://sharkattackfile.net/spreadsheets/pdf_di...</td>\n",
       "      <td>2018.06.04</td>\n",
       "      <td>2018.06.04</td>\n",
       "      <td>6299.0</td>\n",
       "      <td>NaN</td>\n",
       "      <td>NaN</td>\n",
       "    </tr>\n",
       "  </tbody>\n",
       "</table>\n",
       "<p>5 rows × 24 columns</p>\n",
       "</div>"
      ],
      "text/plain": [
       "  Case Number         Date    Year        Type    Country             Area  \\\n",
       "0  2018.06.25  25-Jun-2018  2018.0     Boating        USA       California   \n",
       "1  2018.06.18  18-Jun-2018  2018.0  Unprovoked        USA          Georgia   \n",
       "2  2018.06.09  09-Jun-2018  2018.0     Invalid        USA           Hawaii   \n",
       "3  2018.06.08  08-Jun-2018  2018.0  Unprovoked  AUSTRALIA  New South Wales   \n",
       "4  2018.06.04  04-Jun-2018  2018.0    Provoked     MEXICO           Colima   \n",
       "\n",
       "                         Location     Activity             Name Sex   ...  \\\n",
       "0     Oceanside, San Diego County     Paddling      Julie Wolfe    F  ...   \n",
       "1  St. Simon Island, Glynn County     Standing  Adyson McNeely     F  ...   \n",
       "2                    Habush, Oahu      Surfing      John Denges    M  ...   \n",
       "3              Arrawarra Headland      Surfing             male    M  ...   \n",
       "4                        La Ticla  Free diving   Gustavo Ramos     M  ...   \n",
       "\n",
       "          Species           Investigator or Source                       pdf  \\\n",
       "0      White shark                R. Collier, GSAF      2018.06.25-Wolfe.pdf   \n",
       "1              NaN  K.McMurray, TrackingSharks.com    2018.06.18-McNeely.pdf   \n",
       "2              NaN  K.McMurray, TrackingSharks.com     2018.06.09-Denges.pdf   \n",
       "3        2 m shark                  B. Myatt, GSAF  2018.06.08-Arrawarra.pdf   \n",
       "4  Tiger shark, 3m                       A .Kipper      2018.06.04-Ramos.pdf   \n",
       "\n",
       "                                        href formula  \\\n",
       "0  http://sharkattackfile.net/spreadsheets/pdf_di...   \n",
       "1  http://sharkattackfile.net/spreadsheets/pdf_di...   \n",
       "2  http://sharkattackfile.net/spreadsheets/pdf_di...   \n",
       "3  http://sharkattackfile.net/spreadsheets/pdf_di...   \n",
       "4  http://sharkattackfile.net/spreadsheets/pdf_di...   \n",
       "\n",
       "                                                href Case Number.1  \\\n",
       "0  http://sharkattackfile.net/spreadsheets/pdf_di...    2018.06.25   \n",
       "1  http://sharkattackfile.net/spreadsheets/pdf_di...    2018.06.18   \n",
       "2  http://sharkattackfile.net/spreadsheets/pdf_di...    2018.06.09   \n",
       "3  http://sharkattackfile.net/spreadsheets/pdf_di...    2018.06.08   \n",
       "4  http://sharkattackfile.net/spreadsheets/pdf_di...    2018.06.04   \n",
       "\n",
       "  Case Number.2 original order Unnamed: 22 Unnamed: 23  \n",
       "0    2018.06.25         6303.0         NaN         NaN  \n",
       "1    2018.06.18         6302.0         NaN         NaN  \n",
       "2    2018.06.09         6301.0         NaN         NaN  \n",
       "3    2018.06.08         6300.0         NaN         NaN  \n",
       "4    2018.06.04         6299.0         NaN         NaN  \n",
       "\n",
       "[5 rows x 24 columns]"
      ]
     },
     "execution_count": 8,
     "metadata": {},
     "output_type": "execute_result"
    }
   ],
   "source": [
    "df.head(5)"
   ]
  },
  {
   "cell_type": "code",
   "execution_count": 9,
   "id": "cd9c40c8-5340-4681-ba31-879913543e47",
   "metadata": {},
   "outputs": [
    {
     "data": {
      "text/html": [
       "<div>\n",
       "<style scoped>\n",
       "    .dataframe tbody tr th:only-of-type {\n",
       "        vertical-align: middle;\n",
       "    }\n",
       "\n",
       "    .dataframe tbody tr th {\n",
       "        vertical-align: top;\n",
       "    }\n",
       "\n",
       "    .dataframe thead th {\n",
       "        text-align: right;\n",
       "    }\n",
       "</style>\n",
       "<table border=\"1\" class=\"dataframe\">\n",
       "  <thead>\n",
       "    <tr style=\"text-align: right;\">\n",
       "      <th></th>\n",
       "      <th>Case Number</th>\n",
       "      <th>Date</th>\n",
       "      <th>Year</th>\n",
       "      <th>Type</th>\n",
       "      <th>Country</th>\n",
       "      <th>Area</th>\n",
       "      <th>Location</th>\n",
       "      <th>Activity</th>\n",
       "      <th>Name</th>\n",
       "      <th>Sex</th>\n",
       "      <th>...</th>\n",
       "      <th>Species</th>\n",
       "      <th>Investigator or Source</th>\n",
       "      <th>pdf</th>\n",
       "      <th>href formula</th>\n",
       "      <th>href</th>\n",
       "      <th>Case Number.1</th>\n",
       "      <th>Case Number.2</th>\n",
       "      <th>original order</th>\n",
       "      <th>Unnamed: 22</th>\n",
       "      <th>Unnamed: 23</th>\n",
       "    </tr>\n",
       "  </thead>\n",
       "  <tbody>\n",
       "    <tr>\n",
       "      <th>25718</th>\n",
       "      <td>NaN</td>\n",
       "      <td>NaN</td>\n",
       "      <td>NaN</td>\n",
       "      <td>NaN</td>\n",
       "      <td>NaN</td>\n",
       "      <td>NaN</td>\n",
       "      <td>NaN</td>\n",
       "      <td>NaN</td>\n",
       "      <td>NaN</td>\n",
       "      <td>NaN</td>\n",
       "      <td>...</td>\n",
       "      <td>NaN</td>\n",
       "      <td>NaN</td>\n",
       "      <td>NaN</td>\n",
       "      <td>NaN</td>\n",
       "      <td>NaN</td>\n",
       "      <td>NaN</td>\n",
       "      <td>NaN</td>\n",
       "      <td>NaN</td>\n",
       "      <td>NaN</td>\n",
       "      <td>NaN</td>\n",
       "    </tr>\n",
       "    <tr>\n",
       "      <th>25719</th>\n",
       "      <td>NaN</td>\n",
       "      <td>NaN</td>\n",
       "      <td>NaN</td>\n",
       "      <td>NaN</td>\n",
       "      <td>NaN</td>\n",
       "      <td>NaN</td>\n",
       "      <td>NaN</td>\n",
       "      <td>NaN</td>\n",
       "      <td>NaN</td>\n",
       "      <td>NaN</td>\n",
       "      <td>...</td>\n",
       "      <td>NaN</td>\n",
       "      <td>NaN</td>\n",
       "      <td>NaN</td>\n",
       "      <td>NaN</td>\n",
       "      <td>NaN</td>\n",
       "      <td>NaN</td>\n",
       "      <td>NaN</td>\n",
       "      <td>NaN</td>\n",
       "      <td>NaN</td>\n",
       "      <td>NaN</td>\n",
       "    </tr>\n",
       "    <tr>\n",
       "      <th>25720</th>\n",
       "      <td>NaN</td>\n",
       "      <td>NaN</td>\n",
       "      <td>NaN</td>\n",
       "      <td>NaN</td>\n",
       "      <td>NaN</td>\n",
       "      <td>NaN</td>\n",
       "      <td>NaN</td>\n",
       "      <td>NaN</td>\n",
       "      <td>NaN</td>\n",
       "      <td>NaN</td>\n",
       "      <td>...</td>\n",
       "      <td>NaN</td>\n",
       "      <td>NaN</td>\n",
       "      <td>NaN</td>\n",
       "      <td>NaN</td>\n",
       "      <td>NaN</td>\n",
       "      <td>NaN</td>\n",
       "      <td>NaN</td>\n",
       "      <td>NaN</td>\n",
       "      <td>NaN</td>\n",
       "      <td>NaN</td>\n",
       "    </tr>\n",
       "    <tr>\n",
       "      <th>25721</th>\n",
       "      <td>NaN</td>\n",
       "      <td>NaN</td>\n",
       "      <td>NaN</td>\n",
       "      <td>NaN</td>\n",
       "      <td>NaN</td>\n",
       "      <td>NaN</td>\n",
       "      <td>NaN</td>\n",
       "      <td>NaN</td>\n",
       "      <td>NaN</td>\n",
       "      <td>NaN</td>\n",
       "      <td>...</td>\n",
       "      <td>NaN</td>\n",
       "      <td>NaN</td>\n",
       "      <td>NaN</td>\n",
       "      <td>NaN</td>\n",
       "      <td>NaN</td>\n",
       "      <td>NaN</td>\n",
       "      <td>NaN</td>\n",
       "      <td>NaN</td>\n",
       "      <td>NaN</td>\n",
       "      <td>NaN</td>\n",
       "    </tr>\n",
       "    <tr>\n",
       "      <th>25722</th>\n",
       "      <td>xx</td>\n",
       "      <td>NaN</td>\n",
       "      <td>NaN</td>\n",
       "      <td>NaN</td>\n",
       "      <td>NaN</td>\n",
       "      <td>NaN</td>\n",
       "      <td>NaN</td>\n",
       "      <td>NaN</td>\n",
       "      <td>NaN</td>\n",
       "      <td>NaN</td>\n",
       "      <td>...</td>\n",
       "      <td>NaN</td>\n",
       "      <td>NaN</td>\n",
       "      <td>NaN</td>\n",
       "      <td>NaN</td>\n",
       "      <td>NaN</td>\n",
       "      <td>NaN</td>\n",
       "      <td>NaN</td>\n",
       "      <td>NaN</td>\n",
       "      <td>NaN</td>\n",
       "      <td>NaN</td>\n",
       "    </tr>\n",
       "  </tbody>\n",
       "</table>\n",
       "<p>5 rows × 24 columns</p>\n",
       "</div>"
      ],
      "text/plain": [
       "      Case Number Date  Year Type Country Area Location Activity Name Sex   \\\n",
       "25718         NaN  NaN   NaN  NaN     NaN  NaN      NaN      NaN  NaN  NaN   \n",
       "25719         NaN  NaN   NaN  NaN     NaN  NaN      NaN      NaN  NaN  NaN   \n",
       "25720         NaN  NaN   NaN  NaN     NaN  NaN      NaN      NaN  NaN  NaN   \n",
       "25721         NaN  NaN   NaN  NaN     NaN  NaN      NaN      NaN  NaN  NaN   \n",
       "25722          xx  NaN   NaN  NaN     NaN  NaN      NaN      NaN  NaN  NaN   \n",
       "\n",
       "       ... Species  Investigator or Source  pdf href formula href  \\\n",
       "25718  ...      NaN                    NaN  NaN          NaN  NaN   \n",
       "25719  ...      NaN                    NaN  NaN          NaN  NaN   \n",
       "25720  ...      NaN                    NaN  NaN          NaN  NaN   \n",
       "25721  ...      NaN                    NaN  NaN          NaN  NaN   \n",
       "25722  ...      NaN                    NaN  NaN          NaN  NaN   \n",
       "\n",
       "      Case Number.1 Case Number.2 original order Unnamed: 22 Unnamed: 23  \n",
       "25718           NaN           NaN            NaN         NaN         NaN  \n",
       "25719           NaN           NaN            NaN         NaN         NaN  \n",
       "25720           NaN           NaN            NaN         NaN         NaN  \n",
       "25721           NaN           NaN            NaN         NaN         NaN  \n",
       "25722           NaN           NaN            NaN         NaN         NaN  \n",
       "\n",
       "[5 rows x 24 columns]"
      ]
     },
     "execution_count": 9,
     "metadata": {},
     "output_type": "execute_result"
    }
   ],
   "source": [
    "df.tail(5)"
   ]
  },
  {
   "cell_type": "code",
   "execution_count": 10,
   "id": "eeaafdb4-80c7-4b9e-b900-1faf9f17a334",
   "metadata": {},
   "outputs": [
    {
     "data": {
      "text/plain": [
       "Index(['Case Number', 'Date', 'Year', 'Type', 'Country', 'Area', 'Location',\n",
       "       'Activity', 'Name', 'Sex ', 'Age', 'Injury', 'Fatal (Y/N)', 'Time',\n",
       "       'Species ', 'Investigator or Source', 'pdf', 'href formula', 'href',\n",
       "       'Case Number.1', 'Case Number.2', 'original order', 'Unnamed: 22',\n",
       "       'Unnamed: 23'],\n",
       "      dtype='object')"
      ]
     },
     "execution_count": 10,
     "metadata": {},
     "output_type": "execute_result"
    }
   ],
   "source": [
    "df.columns"
   ]
  },
  {
   "cell_type": "code",
   "execution_count": 11,
   "id": "6b8fca08-3d36-4975-a4ca-c92b69d13ee9",
   "metadata": {},
   "outputs": [],
   "source": [
    "df.columns = df.columns.str.lower()"
   ]
  },
  {
   "cell_type": "code",
   "execution_count": 12,
   "id": "71f8c078-acaf-4d60-8abd-2bc6f3bf5995",
   "metadata": {},
   "outputs": [
    {
     "data": {
      "text/html": [
       "<div>\n",
       "<style scoped>\n",
       "    .dataframe tbody tr th:only-of-type {\n",
       "        vertical-align: middle;\n",
       "    }\n",
       "\n",
       "    .dataframe tbody tr th {\n",
       "        vertical-align: top;\n",
       "    }\n",
       "\n",
       "    .dataframe thead th {\n",
       "        text-align: right;\n",
       "    }\n",
       "</style>\n",
       "<table border=\"1\" class=\"dataframe\">\n",
       "  <thead>\n",
       "    <tr style=\"text-align: right;\">\n",
       "      <th></th>\n",
       "      <th>case number</th>\n",
       "      <th>date</th>\n",
       "      <th>year</th>\n",
       "      <th>type</th>\n",
       "      <th>country</th>\n",
       "      <th>area</th>\n",
       "      <th>location</th>\n",
       "      <th>activity</th>\n",
       "      <th>name</th>\n",
       "      <th>sex</th>\n",
       "      <th>...</th>\n",
       "      <th>species</th>\n",
       "      <th>investigator or source</th>\n",
       "      <th>pdf</th>\n",
       "      <th>href formula</th>\n",
       "      <th>href</th>\n",
       "      <th>case number.1</th>\n",
       "      <th>case number.2</th>\n",
       "      <th>original order</th>\n",
       "      <th>unnamed: 22</th>\n",
       "      <th>unnamed: 23</th>\n",
       "    </tr>\n",
       "  </thead>\n",
       "  <tbody>\n",
       "    <tr>\n",
       "      <th>0</th>\n",
       "      <td>False</td>\n",
       "      <td>False</td>\n",
       "      <td>False</td>\n",
       "      <td>False</td>\n",
       "      <td>False</td>\n",
       "      <td>False</td>\n",
       "      <td>False</td>\n",
       "      <td>False</td>\n",
       "      <td>False</td>\n",
       "      <td>False</td>\n",
       "      <td>...</td>\n",
       "      <td>False</td>\n",
       "      <td>False</td>\n",
       "      <td>False</td>\n",
       "      <td>False</td>\n",
       "      <td>False</td>\n",
       "      <td>False</td>\n",
       "      <td>False</td>\n",
       "      <td>False</td>\n",
       "      <td>True</td>\n",
       "      <td>True</td>\n",
       "    </tr>\n",
       "    <tr>\n",
       "      <th>1</th>\n",
       "      <td>False</td>\n",
       "      <td>False</td>\n",
       "      <td>False</td>\n",
       "      <td>False</td>\n",
       "      <td>False</td>\n",
       "      <td>False</td>\n",
       "      <td>False</td>\n",
       "      <td>False</td>\n",
       "      <td>False</td>\n",
       "      <td>False</td>\n",
       "      <td>...</td>\n",
       "      <td>True</td>\n",
       "      <td>False</td>\n",
       "      <td>False</td>\n",
       "      <td>False</td>\n",
       "      <td>False</td>\n",
       "      <td>False</td>\n",
       "      <td>False</td>\n",
       "      <td>False</td>\n",
       "      <td>True</td>\n",
       "      <td>True</td>\n",
       "    </tr>\n",
       "    <tr>\n",
       "      <th>2</th>\n",
       "      <td>False</td>\n",
       "      <td>False</td>\n",
       "      <td>False</td>\n",
       "      <td>False</td>\n",
       "      <td>False</td>\n",
       "      <td>False</td>\n",
       "      <td>False</td>\n",
       "      <td>False</td>\n",
       "      <td>False</td>\n",
       "      <td>False</td>\n",
       "      <td>...</td>\n",
       "      <td>True</td>\n",
       "      <td>False</td>\n",
       "      <td>False</td>\n",
       "      <td>False</td>\n",
       "      <td>False</td>\n",
       "      <td>False</td>\n",
       "      <td>False</td>\n",
       "      <td>False</td>\n",
       "      <td>True</td>\n",
       "      <td>True</td>\n",
       "    </tr>\n",
       "    <tr>\n",
       "      <th>3</th>\n",
       "      <td>False</td>\n",
       "      <td>False</td>\n",
       "      <td>False</td>\n",
       "      <td>False</td>\n",
       "      <td>False</td>\n",
       "      <td>False</td>\n",
       "      <td>False</td>\n",
       "      <td>False</td>\n",
       "      <td>False</td>\n",
       "      <td>False</td>\n",
       "      <td>...</td>\n",
       "      <td>False</td>\n",
       "      <td>False</td>\n",
       "      <td>False</td>\n",
       "      <td>False</td>\n",
       "      <td>False</td>\n",
       "      <td>False</td>\n",
       "      <td>False</td>\n",
       "      <td>False</td>\n",
       "      <td>True</td>\n",
       "      <td>True</td>\n",
       "    </tr>\n",
       "    <tr>\n",
       "      <th>4</th>\n",
       "      <td>False</td>\n",
       "      <td>False</td>\n",
       "      <td>False</td>\n",
       "      <td>False</td>\n",
       "      <td>False</td>\n",
       "      <td>False</td>\n",
       "      <td>False</td>\n",
       "      <td>False</td>\n",
       "      <td>False</td>\n",
       "      <td>False</td>\n",
       "      <td>...</td>\n",
       "      <td>False</td>\n",
       "      <td>False</td>\n",
       "      <td>False</td>\n",
       "      <td>False</td>\n",
       "      <td>False</td>\n",
       "      <td>False</td>\n",
       "      <td>False</td>\n",
       "      <td>False</td>\n",
       "      <td>True</td>\n",
       "      <td>True</td>\n",
       "    </tr>\n",
       "  </tbody>\n",
       "</table>\n",
       "<p>5 rows × 24 columns</p>\n",
       "</div>"
      ],
      "text/plain": [
       "   case number   date   year   type  country   area  location  activity  \\\n",
       "0        False  False  False  False    False  False     False     False   \n",
       "1        False  False  False  False    False  False     False     False   \n",
       "2        False  False  False  False    False  False     False     False   \n",
       "3        False  False  False  False    False  False     False     False   \n",
       "4        False  False  False  False    False  False     False     False   \n",
       "\n",
       "    name   sex   ...  species   investigator or source    pdf  href formula  \\\n",
       "0  False  False  ...     False                   False  False         False   \n",
       "1  False  False  ...      True                   False  False         False   \n",
       "2  False  False  ...      True                   False  False         False   \n",
       "3  False  False  ...     False                   False  False         False   \n",
       "4  False  False  ...     False                   False  False         False   \n",
       "\n",
       "    href  case number.1  case number.2  original order  unnamed: 22  \\\n",
       "0  False          False          False           False         True   \n",
       "1  False          False          False           False         True   \n",
       "2  False          False          False           False         True   \n",
       "3  False          False          False           False         True   \n",
       "4  False          False          False           False         True   \n",
       "\n",
       "   unnamed: 23  \n",
       "0         True  \n",
       "1         True  \n",
       "2         True  \n",
       "3         True  \n",
       "4         True  \n",
       "\n",
       "[5 rows x 24 columns]"
      ]
     },
     "execution_count": 12,
     "metadata": {},
     "output_type": "execute_result"
    }
   ],
   "source": [
    "df.isnull().head()"
   ]
  },
  {
   "cell_type": "code",
   "execution_count": 13,
   "id": "6d7c5713-c77d-48c1-9bef-2dea24652833",
   "metadata": {},
   "outputs": [],
   "source": [
    "nulos_col= df.isnull().sum()"
   ]
  },
  {
   "cell_type": "code",
   "execution_count": 14,
   "id": "eab94cfe-f593-42f0-9494-8371c5abbc38",
   "metadata": {},
   "outputs": [
    {
     "data": {
      "text/plain": [
       "case number               17021\n",
       "date                      19421\n",
       "year                      19423\n",
       "type                      19425\n",
       "country                   19471\n",
       "area                      19876\n",
       "location                  19961\n",
       "activity                  19965\n",
       "name                      19631\n",
       "sex                       19986\n",
       "age                       22252\n",
       "injury                    19449\n",
       "fatal (y/n)               19960\n",
       "time                      22775\n",
       "species                   22259\n",
       "investigator or source    19438\n",
       "pdf                       19421\n",
       "href formula              19422\n",
       "href                      19421\n",
       "case number.1             19421\n",
       "case number.2             19421\n",
       "original order            19414\n",
       "unnamed: 22               25722\n",
       "unnamed: 23               25721\n",
       "dtype: int64"
      ]
     },
     "execution_count": 14,
     "metadata": {},
     "output_type": "execute_result"
    }
   ],
   "source": [
    "nulos_col"
   ]
  },
  {
   "cell_type": "code",
   "execution_count": 15,
   "id": "7f1a777d-6aac-40bc-b223-4a5c9986e3bf",
   "metadata": {},
   "outputs": [
    {
     "data": {
      "text/plain": [
       "case number               0.661704\n",
       "date                      0.755005\n",
       "year                      0.755083\n",
       "type                      0.755161\n",
       "country                   0.756949\n",
       "area                      0.772694\n",
       "location                  0.775998\n",
       "activity                  0.776154\n",
       "name                      0.763169\n",
       "sex                       0.776970\n",
       "age                       0.865062\n",
       "injury                    0.756094\n",
       "fatal (y/n)               0.775959\n",
       "time                      0.885394\n",
       "species                   0.865335\n",
       "investigator or source    0.755666\n",
       "pdf                       0.755005\n",
       "href formula              0.755044\n",
       "href                      0.755005\n",
       "case number.1             0.755005\n",
       "case number.2             0.755005\n",
       "original order            0.754733\n",
       "unnamed: 22               0.999961\n",
       "unnamed: 23               0.999922\n",
       "dtype: float64"
      ]
     },
     "execution_count": 15,
     "metadata": {},
     "output_type": "execute_result"
    }
   ],
   "source": [
    "porcentaje_nulos= nulos_col[nulos_col > 0]/df.shape[0] \n",
    "porcentaje_nulos"
   ]
  },
  {
   "cell_type": "code",
   "execution_count": 16,
   "id": "1f85737f-9edf-4cf8-81f5-ec19ef01a02f",
   "metadata": {},
   "outputs": [
    {
     "data": {
      "text/plain": [
       "['unnamed: 22', 'unnamed: 23', 'href formula', 'href']"
      ]
     },
     "execution_count": 16,
     "metadata": {},
     "output_type": "execute_result"
    }
   ],
   "source": [
    "columnas_eliminar=['unnamed: 22', 'unnamed: 23', 'href formula', 'href' ]\n",
    "columnas_eliminar"
   ]
  },
  {
   "cell_type": "code",
   "execution_count": 17,
   "id": "7ec1fca2-a7f1-47ec-97a7-6a5bd0c4bc97",
   "metadata": {},
   "outputs": [],
   "source": [
    "df.drop(columnas_eliminar, axis=1, inplace=True)"
   ]
  },
  {
   "cell_type": "code",
   "execution_count": 18,
   "id": "062470ce-4f56-4130-9a36-65782ca10618",
   "metadata": {},
   "outputs": [
    {
     "data": {
      "text/plain": [
       "(25723, 20)"
      ]
     },
     "execution_count": 18,
     "metadata": {},
     "output_type": "execute_result"
    }
   ],
   "source": [
    "df.shape"
   ]
  },
  {
   "cell_type": "code",
   "execution_count": 19,
   "id": "a9b5f25c-cb57-4862-8301-10789fc27578",
   "metadata": {},
   "outputs": [
    {
     "data": {
      "text/html": [
       "<div>\n",
       "<style scoped>\n",
       "    .dataframe tbody tr th:only-of-type {\n",
       "        vertical-align: middle;\n",
       "    }\n",
       "\n",
       "    .dataframe tbody tr th {\n",
       "        vertical-align: top;\n",
       "    }\n",
       "\n",
       "    .dataframe thead th {\n",
       "        text-align: right;\n",
       "    }\n",
       "</style>\n",
       "<table border=\"1\" class=\"dataframe\">\n",
       "  <thead>\n",
       "    <tr style=\"text-align: right;\">\n",
       "      <th></th>\n",
       "      <th>case number</th>\n",
       "      <th>date</th>\n",
       "      <th>year</th>\n",
       "      <th>type</th>\n",
       "      <th>country</th>\n",
       "      <th>area</th>\n",
       "      <th>location</th>\n",
       "      <th>activity</th>\n",
       "      <th>name</th>\n",
       "      <th>sex</th>\n",
       "      <th>age</th>\n",
       "      <th>injury</th>\n",
       "      <th>fatal (y/n)</th>\n",
       "      <th>time</th>\n",
       "      <th>species</th>\n",
       "      <th>investigator or source</th>\n",
       "      <th>pdf</th>\n",
       "      <th>case number.1</th>\n",
       "      <th>case number.2</th>\n",
       "      <th>original order</th>\n",
       "    </tr>\n",
       "  </thead>\n",
       "  <tbody>\n",
       "    <tr>\n",
       "      <th>0</th>\n",
       "      <td>2018.06.25</td>\n",
       "      <td>25-Jun-2018</td>\n",
       "      <td>2018.0</td>\n",
       "      <td>Boating</td>\n",
       "      <td>USA</td>\n",
       "      <td>California</td>\n",
       "      <td>Oceanside, San Diego County</td>\n",
       "      <td>Paddling</td>\n",
       "      <td>Julie Wolfe</td>\n",
       "      <td>F</td>\n",
       "      <td>57</td>\n",
       "      <td>No injury to occupant, outrigger canoe and pad...</td>\n",
       "      <td>N</td>\n",
       "      <td>18h00</td>\n",
       "      <td>White shark</td>\n",
       "      <td>R. Collier, GSAF</td>\n",
       "      <td>2018.06.25-Wolfe.pdf</td>\n",
       "      <td>2018.06.25</td>\n",
       "      <td>2018.06.25</td>\n",
       "      <td>6303.0</td>\n",
       "    </tr>\n",
       "    <tr>\n",
       "      <th>1</th>\n",
       "      <td>2018.06.18</td>\n",
       "      <td>18-Jun-2018</td>\n",
       "      <td>2018.0</td>\n",
       "      <td>Unprovoked</td>\n",
       "      <td>USA</td>\n",
       "      <td>Georgia</td>\n",
       "      <td>St. Simon Island, Glynn County</td>\n",
       "      <td>Standing</td>\n",
       "      <td>Adyson McNeely</td>\n",
       "      <td>F</td>\n",
       "      <td>11</td>\n",
       "      <td>Minor injury to left thigh</td>\n",
       "      <td>N</td>\n",
       "      <td>14h00  -15h00</td>\n",
       "      <td>NaN</td>\n",
       "      <td>K.McMurray, TrackingSharks.com</td>\n",
       "      <td>2018.06.18-McNeely.pdf</td>\n",
       "      <td>2018.06.18</td>\n",
       "      <td>2018.06.18</td>\n",
       "      <td>6302.0</td>\n",
       "    </tr>\n",
       "    <tr>\n",
       "      <th>2</th>\n",
       "      <td>2018.06.09</td>\n",
       "      <td>09-Jun-2018</td>\n",
       "      <td>2018.0</td>\n",
       "      <td>Invalid</td>\n",
       "      <td>USA</td>\n",
       "      <td>Hawaii</td>\n",
       "      <td>Habush, Oahu</td>\n",
       "      <td>Surfing</td>\n",
       "      <td>John Denges</td>\n",
       "      <td>M</td>\n",
       "      <td>48</td>\n",
       "      <td>Injury to left lower leg from surfboard skeg</td>\n",
       "      <td>N</td>\n",
       "      <td>07h45</td>\n",
       "      <td>NaN</td>\n",
       "      <td>K.McMurray, TrackingSharks.com</td>\n",
       "      <td>2018.06.09-Denges.pdf</td>\n",
       "      <td>2018.06.09</td>\n",
       "      <td>2018.06.09</td>\n",
       "      <td>6301.0</td>\n",
       "    </tr>\n",
       "    <tr>\n",
       "      <th>3</th>\n",
       "      <td>2018.06.08</td>\n",
       "      <td>08-Jun-2018</td>\n",
       "      <td>2018.0</td>\n",
       "      <td>Unprovoked</td>\n",
       "      <td>AUSTRALIA</td>\n",
       "      <td>New South Wales</td>\n",
       "      <td>Arrawarra Headland</td>\n",
       "      <td>Surfing</td>\n",
       "      <td>male</td>\n",
       "      <td>M</td>\n",
       "      <td>NaN</td>\n",
       "      <td>Minor injury to lower leg</td>\n",
       "      <td>N</td>\n",
       "      <td>NaN</td>\n",
       "      <td>2 m shark</td>\n",
       "      <td>B. Myatt, GSAF</td>\n",
       "      <td>2018.06.08-Arrawarra.pdf</td>\n",
       "      <td>2018.06.08</td>\n",
       "      <td>2018.06.08</td>\n",
       "      <td>6300.0</td>\n",
       "    </tr>\n",
       "    <tr>\n",
       "      <th>4</th>\n",
       "      <td>2018.06.04</td>\n",
       "      <td>04-Jun-2018</td>\n",
       "      <td>2018.0</td>\n",
       "      <td>Provoked</td>\n",
       "      <td>MEXICO</td>\n",
       "      <td>Colima</td>\n",
       "      <td>La Ticla</td>\n",
       "      <td>Free diving</td>\n",
       "      <td>Gustavo Ramos</td>\n",
       "      <td>M</td>\n",
       "      <td>NaN</td>\n",
       "      <td>Lacerations to leg &amp; hand shark PROVOKED INCIDENT</td>\n",
       "      <td>N</td>\n",
       "      <td>NaN</td>\n",
       "      <td>Tiger shark, 3m</td>\n",
       "      <td>A .Kipper</td>\n",
       "      <td>2018.06.04-Ramos.pdf</td>\n",
       "      <td>2018.06.04</td>\n",
       "      <td>2018.06.04</td>\n",
       "      <td>6299.0</td>\n",
       "    </tr>\n",
       "  </tbody>\n",
       "</table>\n",
       "</div>"
      ],
      "text/plain": [
       "  case number         date    year        type    country             area  \\\n",
       "0  2018.06.25  25-Jun-2018  2018.0     Boating        USA       California   \n",
       "1  2018.06.18  18-Jun-2018  2018.0  Unprovoked        USA          Georgia   \n",
       "2  2018.06.09  09-Jun-2018  2018.0     Invalid        USA           Hawaii   \n",
       "3  2018.06.08  08-Jun-2018  2018.0  Unprovoked  AUSTRALIA  New South Wales   \n",
       "4  2018.06.04  04-Jun-2018  2018.0    Provoked     MEXICO           Colima   \n",
       "\n",
       "                         location     activity             name sex   age  \\\n",
       "0     Oceanside, San Diego County     Paddling      Julie Wolfe    F   57   \n",
       "1  St. Simon Island, Glynn County     Standing  Adyson McNeely     F   11   \n",
       "2                    Habush, Oahu      Surfing      John Denges    M   48   \n",
       "3              Arrawarra Headland      Surfing             male    M  NaN   \n",
       "4                        La Ticla  Free diving   Gustavo Ramos     M  NaN   \n",
       "\n",
       "                                              injury fatal (y/n)  \\\n",
       "0  No injury to occupant, outrigger canoe and pad...           N   \n",
       "1                         Minor injury to left thigh           N   \n",
       "2       Injury to left lower leg from surfboard skeg           N   \n",
       "3                          Minor injury to lower leg           N   \n",
       "4  Lacerations to leg & hand shark PROVOKED INCIDENT           N   \n",
       "\n",
       "            time         species           investigator or source  \\\n",
       "0          18h00      White shark                R. Collier, GSAF   \n",
       "1  14h00  -15h00              NaN  K.McMurray, TrackingSharks.com   \n",
       "2          07h45              NaN  K.McMurray, TrackingSharks.com   \n",
       "3            NaN        2 m shark                  B. Myatt, GSAF   \n",
       "4            NaN  Tiger shark, 3m                       A .Kipper   \n",
       "\n",
       "                        pdf case number.1 case number.2  original order  \n",
       "0      2018.06.25-Wolfe.pdf    2018.06.25    2018.06.25          6303.0  \n",
       "1    2018.06.18-McNeely.pdf    2018.06.18    2018.06.18          6302.0  \n",
       "2     2018.06.09-Denges.pdf    2018.06.09    2018.06.09          6301.0  \n",
       "3  2018.06.08-Arrawarra.pdf    2018.06.08    2018.06.08          6300.0  \n",
       "4      2018.06.04-Ramos.pdf    2018.06.04    2018.06.04          6299.0  "
      ]
     },
     "execution_count": 19,
     "metadata": {},
     "output_type": "execute_result"
    }
   ],
   "source": [
    "df.head()"
   ]
  },
  {
   "cell_type": "code",
   "execution_count": 20,
   "id": "d80e88db-95ba-4190-ae0f-ff8661718585",
   "metadata": {},
   "outputs": [
    {
     "data": {
      "text/plain": [
       "case number               17021\n",
       "date                      19421\n",
       "year                      19423\n",
       "type                      19425\n",
       "country                   19471\n",
       "area                      19876\n",
       "location                  19961\n",
       "activity                  19965\n",
       "name                      19631\n",
       "sex                       19986\n",
       "age                       22252\n",
       "injury                    19449\n",
       "fatal (y/n)               19960\n",
       "time                      22775\n",
       "species                   22259\n",
       "investigator or source    19438\n",
       "pdf                       19421\n",
       "case number.1             19421\n",
       "case number.2             19421\n",
       "original order            19414\n",
       "dtype: int64"
      ]
     },
     "execution_count": 20,
     "metadata": {},
     "output_type": "execute_result"
    }
   ],
   "source": [
    "nulos_col= df.isnull().sum()\n",
    "nulos_col"
   ]
  },
  {
   "cell_type": "code",
   "execution_count": 21,
   "id": "289b6f50-f826-40b1-afc8-4e36db6ddd61",
   "metadata": {},
   "outputs": [
    {
     "data": {
      "text/plain": [
       "case number               0.661704\n",
       "date                      0.755005\n",
       "year                      0.755083\n",
       "type                      0.755161\n",
       "country                   0.756949\n",
       "area                      0.772694\n",
       "location                  0.775998\n",
       "activity                  0.776154\n",
       "name                      0.763169\n",
       "sex                       0.776970\n",
       "age                       0.865062\n",
       "injury                    0.756094\n",
       "fatal (y/n)               0.775959\n",
       "time                      0.885394\n",
       "species                   0.865335\n",
       "investigator or source    0.755666\n",
       "pdf                       0.755005\n",
       "case number.1             0.755005\n",
       "case number.2             0.755005\n",
       "original order            0.754733\n",
       "dtype: float64"
      ]
     },
     "execution_count": 21,
     "metadata": {},
     "output_type": "execute_result"
    }
   ],
   "source": [
    "porcentaje_nulos= nulos_col[nulos_col > 0]/df.shape[0]  #estoy diviendo entre el total de mis filas para conocer el porcentaje de nulos\n",
    "porcentaje_nulos"
   ]
  },
  {
   "cell_type": "code",
   "execution_count": 22,
   "id": "5e494659-ff4e-4478-9000-d13d547b8787",
   "metadata": {},
   "outputs": [
    {
     "data": {
      "text/html": [
       "<div>\n",
       "<style scoped>\n",
       "    .dataframe tbody tr th:only-of-type {\n",
       "        vertical-align: middle;\n",
       "    }\n",
       "\n",
       "    .dataframe tbody tr th {\n",
       "        vertical-align: top;\n",
       "    }\n",
       "\n",
       "    .dataframe thead th {\n",
       "        text-align: right;\n",
       "    }\n",
       "</style>\n",
       "<table border=\"1\" class=\"dataframe\">\n",
       "  <thead>\n",
       "    <tr style=\"text-align: right;\">\n",
       "      <th></th>\n",
       "      <th>case number</th>\n",
       "      <th>case number.1</th>\n",
       "      <th>case number.2</th>\n",
       "    </tr>\n",
       "  </thead>\n",
       "  <tbody>\n",
       "    <tr>\n",
       "      <th>25718</th>\n",
       "      <td>NaN</td>\n",
       "      <td>NaN</td>\n",
       "      <td>NaN</td>\n",
       "    </tr>\n",
       "    <tr>\n",
       "      <th>25719</th>\n",
       "      <td>NaN</td>\n",
       "      <td>NaN</td>\n",
       "      <td>NaN</td>\n",
       "    </tr>\n",
       "    <tr>\n",
       "      <th>25720</th>\n",
       "      <td>NaN</td>\n",
       "      <td>NaN</td>\n",
       "      <td>NaN</td>\n",
       "    </tr>\n",
       "    <tr>\n",
       "      <th>25721</th>\n",
       "      <td>NaN</td>\n",
       "      <td>NaN</td>\n",
       "      <td>NaN</td>\n",
       "    </tr>\n",
       "    <tr>\n",
       "      <th>25722</th>\n",
       "      <td>xx</td>\n",
       "      <td>NaN</td>\n",
       "      <td>NaN</td>\n",
       "    </tr>\n",
       "  </tbody>\n",
       "</table>\n",
       "</div>"
      ],
      "text/plain": [
       "      case number case number.1 case number.2\n",
       "25718         NaN           NaN           NaN\n",
       "25719         NaN           NaN           NaN\n",
       "25720         NaN           NaN           NaN\n",
       "25721         NaN           NaN           NaN\n",
       "25722          xx           NaN           NaN"
      ]
     },
     "execution_count": 22,
     "metadata": {},
     "output_type": "execute_result"
    }
   ],
   "source": [
    "df_comp= df[['case number','case number.1','case number.2']]\n",
    "df_comp.head()\n",
    "df_comp.tail()"
   ]
  },
  {
   "cell_type": "code",
   "execution_count": 23,
   "id": "2acdaa98-e69b-486c-aec8-4a3383c06f22",
   "metadata": {},
   "outputs": [
    {
     "name": "stdout",
     "output_type": "stream",
     "text": [
      "<class 'pandas.core.frame.DataFrame'>\n",
      "RangeIndex: 25723 entries, 0 to 25722\n",
      "Data columns (total 3 columns):\n",
      " #   Column         Non-Null Count  Dtype \n",
      "---  ------         --------------  ----- \n",
      " 0   case number    8702 non-null   object\n",
      " 1   case number.1  6302 non-null   object\n",
      " 2   case number.2  6302 non-null   object\n",
      "dtypes: object(3)\n",
      "memory usage: 603.0+ KB\n"
     ]
    }
   ],
   "source": [
    "df_comp.info()"
   ]
  },
  {
   "cell_type": "code",
   "execution_count": 24,
   "id": "d9e9e3fd-8904-4838-a958-343f42ca26ba",
   "metadata": {},
   "outputs": [
    {
     "data": {
      "text/plain": [
       "(8703, 20)"
      ]
     },
     "execution_count": 24,
     "metadata": {},
     "output_type": "execute_result"
    }
   ],
   "source": [
    "df= df.dropna(how='all')\n",
    "df.shape"
   ]
  },
  {
   "cell_type": "code",
   "execution_count": 25,
   "id": "63e2d66d-d1ba-47b6-b02f-da5accf60439",
   "metadata": {},
   "outputs": [
    {
     "data": {
      "text/plain": [
       "Index(['case number', 'date', 'year', 'type', 'country', 'area', 'location',\n",
       "       'activity', 'name', 'sex ', 'age', 'injury', 'fatal (y/n)', 'time',\n",
       "       'species ', 'investigator or source', 'pdf', 'case number.1',\n",
       "       'case number.2', 'original order'],\n",
       "      dtype='object')"
      ]
     },
     "execution_count": 25,
     "metadata": {},
     "output_type": "execute_result"
    }
   ],
   "source": [
    "df.columns"
   ]
  },
  {
   "cell_type": "code",
   "execution_count": 26,
   "id": "95093e88-f012-4983-ace6-44ed57ba2296",
   "metadata": {},
   "outputs": [
    {
     "data": {
      "text/html": [
       "<div>\n",
       "<style scoped>\n",
       "    .dataframe tbody tr th:only-of-type {\n",
       "        vertical-align: middle;\n",
       "    }\n",
       "\n",
       "    .dataframe tbody tr th {\n",
       "        vertical-align: top;\n",
       "    }\n",
       "\n",
       "    .dataframe thead th {\n",
       "        text-align: right;\n",
       "    }\n",
       "</style>\n",
       "<table border=\"1\" class=\"dataframe\">\n",
       "  <thead>\n",
       "    <tr style=\"text-align: right;\">\n",
       "      <th></th>\n",
       "      <th>case_number</th>\n",
       "      <th>date</th>\n",
       "      <th>year</th>\n",
       "      <th>type</th>\n",
       "      <th>country</th>\n",
       "      <th>area</th>\n",
       "      <th>location</th>\n",
       "      <th>activity</th>\n",
       "      <th>name</th>\n",
       "      <th>sex</th>\n",
       "      <th>age</th>\n",
       "      <th>injury</th>\n",
       "      <th>fatal(y/n)</th>\n",
       "      <th>time</th>\n",
       "      <th>species</th>\n",
       "      <th>investigator/source</th>\n",
       "      <th>pdf</th>\n",
       "      <th>cn1</th>\n",
       "      <th>cn2</th>\n",
       "      <th>original_order</th>\n",
       "    </tr>\n",
       "  </thead>\n",
       "  <tbody>\n",
       "  </tbody>\n",
       "</table>\n",
       "</div>"
      ],
      "text/plain": [
       "Empty DataFrame\n",
       "Columns: [case_number, date, year, type, country, area, location, activity, name, sex, age, injury, fatal(y/n), time, species, investigator/source, pdf, cn1, cn2, original_order]\n",
       "Index: []"
      ]
     },
     "execution_count": 26,
     "metadata": {},
     "output_type": "execute_result"
    }
   ],
   "source": [
    "df= df.rename(columns = {'case number':'case_number', 'sex ':'sex', 'fatal (y/n)':'fatal(y/n)','species ':'species' ,\n",
    "                         'investigator or source':'investigator/source','case number.1': 'cn1', 'case number.2': 'cn2',\n",
    "                         'original order':'original_order'})\n",
    "df.head(0)"
   ]
  },
  {
   "cell_type": "markdown",
   "id": "d9bb3ec6-85b0-42b6-9c5e-6073cd64cc2a",
   "metadata": {},
   "source": [
    "## Columna sex"
   ]
  },
  {
   "cell_type": "code",
   "execution_count": 27,
   "id": "7b360613-5318-4f2b-8b13-014525bb8d99",
   "metadata": {},
   "outputs": [
    {
     "data": {
      "text/plain": [
       "M      5094\n",
       "F       637\n",
       "M         2\n",
       "N         2\n",
       "lli       1\n",
       ".         1\n",
       "Name: sex, dtype: int64"
      ]
     },
     "execution_count": 27,
     "metadata": {},
     "output_type": "execute_result"
    }
   ],
   "source": [
    "df.sex.value_counts()"
   ]
  },
  {
   "cell_type": "code",
   "execution_count": 28,
   "id": "0bf916be-e4c5-46e5-8057-18a879699cfb",
   "metadata": {},
   "outputs": [],
   "source": [
    "diccionario_sexo={'M':['M', ' M', 'M ', ' M '],\n",
    "          'F':'F',\n",
    "          'ND':['N', 'lli', '.', 'NA'] }"
   ]
  },
  {
   "cell_type": "code",
   "execution_count": 29,
   "id": "b9d95dc3-e018-4576-adf3-7229003376f0",
   "metadata": {},
   "outputs": [],
   "source": [
    "def sex_values(actual):\n",
    "    try:\n",
    "        llaves= [key for key, val in diccionario_sexo.items() if actual in val]\n",
    "        return llaves [0]\n",
    "    except:\n",
    "        actual"
   ]
  },
  {
   "cell_type": "code",
   "execution_count": 30,
   "id": "14337bd5-4821-4ab1-a610-3345e77fa9f0",
   "metadata": {},
   "outputs": [],
   "source": [
    "df['sex']= df['sex'].apply(sex_values)"
   ]
  },
  {
   "cell_type": "code",
   "execution_count": 31,
   "id": "82582386-d875-4a38-90d7-008f8d8d2825",
   "metadata": {},
   "outputs": [],
   "source": [
    "df['sex']= df['sex'].astype('string')"
   ]
  },
  {
   "cell_type": "code",
   "execution_count": 32,
   "id": "d58d85d0-b658-4570-808c-b79b4cda3d62",
   "metadata": {},
   "outputs": [
    {
     "data": {
      "text/plain": [
       "M     5096\n",
       "F      637\n",
       "ND       4\n",
       "Name: sex, dtype: Int64"
      ]
     },
     "execution_count": 32,
     "metadata": {},
     "output_type": "execute_result"
    }
   ],
   "source": [
    "df.sex.value_counts()"
   ]
  },
  {
   "cell_type": "code",
   "execution_count": 33,
   "id": "0b6e633d-b2bd-4008-a4e1-284b5e26d64f",
   "metadata": {},
   "outputs": [],
   "source": [
    "df.sex=df.sex.fillna('UNKNOWN')"
   ]
  },
  {
   "cell_type": "code",
   "execution_count": 34,
   "id": "c0b27013-4259-43c1-8a51-f8ccccf5d16c",
   "metadata": {},
   "outputs": [
    {
     "data": {
      "text/plain": [
       "case_number               1\n",
       "date                   2401\n",
       "year                   2403\n",
       "type                   2405\n",
       "country                2451\n",
       "area                   2856\n",
       "location               2941\n",
       "activity               2945\n",
       "name                   2611\n",
       "sex                       0\n",
       "age                    5232\n",
       "injury                 2429\n",
       "fatal(y/n)             2940\n",
       "time                   5755\n",
       "species                5239\n",
       "investigator/source    2418\n",
       "pdf                    2401\n",
       "cn1                    2401\n",
       "cn2                    2401\n",
       "original_order         2394\n",
       "dtype: int64"
      ]
     },
     "execution_count": 34,
     "metadata": {},
     "output_type": "execute_result"
    }
   ],
   "source": [
    "nulos_col= df.isnull().sum()\n",
    "nulos_col"
   ]
  },
  {
   "cell_type": "code",
   "execution_count": 35,
   "id": "bf43fcca-fca3-45b1-847c-39c7ecbeee26",
   "metadata": {},
   "outputs": [
    {
     "data": {
      "text/plain": [
       "case_number            0.000115\n",
       "date                   0.275882\n",
       "year                   0.276112\n",
       "type                   0.276341\n",
       "country                0.281627\n",
       "area                   0.328163\n",
       "location               0.337929\n",
       "activity               0.338389\n",
       "name                   0.300011\n",
       "age                    0.601172\n",
       "injury                 0.279099\n",
       "fatal(y/n)             0.337815\n",
       "time                   0.661266\n",
       "species                0.601976\n",
       "investigator/source    0.277835\n",
       "pdf                    0.275882\n",
       "cn1                    0.275882\n",
       "cn2                    0.275882\n",
       "original_order         0.275078\n",
       "dtype: float64"
      ]
     },
     "execution_count": 35,
     "metadata": {},
     "output_type": "execute_result"
    }
   ],
   "source": [
    "porcentaje_nulos= nulos_col[nulos_col > 0]/df.shape[0]  \n",
    "porcentaje_nulos"
   ]
  },
  {
   "cell_type": "markdown",
   "id": "d4814957-9ff7-4977-8619-3fc99cf627f2",
   "metadata": {},
   "source": [
    "## Case Number para eliminar filas"
   ]
  },
  {
   "cell_type": "code",
   "execution_count": 36,
   "id": "29ec7f3d-733f-4438-aa07-1f1819817b97",
   "metadata": {},
   "outputs": [
    {
     "data": {
      "text/plain": [
       "8698      0\n",
       "8699      0\n",
       "8700      0\n",
       "8701      0\n",
       "25722    xx\n",
       "Name: case_number, dtype: object"
      ]
     },
     "execution_count": 36,
     "metadata": {},
     "output_type": "execute_result"
    }
   ],
   "source": [
    "df.case_number.tail()"
   ]
  },
  {
   "cell_type": "code",
   "execution_count": 37,
   "id": "8acd4156-fdbf-4e86-967a-35e582226c4c",
   "metadata": {},
   "outputs": [
    {
     "data": {
      "text/plain": [
       "6298     ND.0004\n",
       "6299     ND.0003\n",
       "6300     ND.0002\n",
       "6301     ND.0001\n",
       "25722         xx\n",
       "Name: case_number, dtype: object"
      ]
     },
     "execution_count": 37,
     "metadata": {},
     "output_type": "execute_result"
    }
   ],
   "source": [
    "df_cero= df[df[\"case_number\"]=='0'].index\n",
    "df= df.drop(df_cero)\n",
    "df.case_number.tail()"
   ]
  },
  {
   "cell_type": "code",
   "execution_count": 38,
   "id": "5bbfa0f8-8803-43c3-9d8d-1981dcce2e3d",
   "metadata": {},
   "outputs": [
    {
     "data": {
      "text/plain": [
       "6297    ND.0005\n",
       "6298    ND.0004\n",
       "6299    ND.0003\n",
       "6300    ND.0002\n",
       "6301    ND.0001\n",
       "Name: case_number, dtype: object"
      ]
     },
     "execution_count": 38,
     "metadata": {},
     "output_type": "execute_result"
    }
   ],
   "source": [
    "df_equis= df[df[\"case_number\"]=='xx'].index\n",
    "df= df.drop(df_equis)\n",
    "df.case_number.tail()"
   ]
  },
  {
   "cell_type": "code",
   "execution_count": 39,
   "id": "beffb90c-6b70-46f5-a83b-9b6f95558924",
   "metadata": {},
   "outputs": [
    {
     "data": {
      "text/plain": [
       "6297    ND.0005\n",
       "6298    ND.0004\n",
       "6299    ND.0003\n",
       "6300    ND.0002\n",
       "6301    ND.0001\n",
       "Name: case_number, dtype: object"
      ]
     },
     "execution_count": 39,
     "metadata": {},
     "output_type": "execute_result"
    }
   ],
   "source": [
    "df_null= df[df[\"case_number\"].isnull()].index\n",
    "df= df.drop(df_null)\n",
    "df.case_number.tail()"
   ]
  },
  {
   "cell_type": "code",
   "execution_count": 40,
   "id": "1fa31ecc-04f4-4c0d-94d2-eb93ddeaa812",
   "metadata": {},
   "outputs": [
    {
     "data": {
      "text/plain": [
       "0    2018.06.25\n",
       "1    2018.06.18\n",
       "2    2018.06.09\n",
       "3    2018.06.08\n",
       "4    2018.06.04\n",
       "Name: case_number, dtype: object"
      ]
     },
     "execution_count": 40,
     "metadata": {},
     "output_type": "execute_result"
    }
   ],
   "source": [
    "df.case_number.head()"
   ]
  },
  {
   "cell_type": "code",
   "execution_count": 41,
   "id": "f7d19535-ecd3-4f0b-ad33-5f3f79521aff",
   "metadata": {},
   "outputs": [
    {
     "data": {
      "text/plain": [
       "case_number               0\n",
       "date                      0\n",
       "year                      2\n",
       "type                      4\n",
       "country                  50\n",
       "area                    455\n",
       "location                540\n",
       "activity                544\n",
       "name                    210\n",
       "sex                       0\n",
       "age                    2830\n",
       "injury                   28\n",
       "fatal(y/n)              539\n",
       "time                   3353\n",
       "species                2837\n",
       "investigator/source      17\n",
       "pdf                       0\n",
       "cn1                       0\n",
       "cn2                       0\n",
       "original_order            0\n",
       "dtype: int64"
      ]
     },
     "execution_count": 41,
     "metadata": {},
     "output_type": "execute_result"
    }
   ],
   "source": [
    "nulos_col= df.isnull().sum()\n",
    "nulos_col"
   ]
  },
  {
   "cell_type": "code",
   "execution_count": 42,
   "id": "1d11eb42-28c0-4f82-bdb2-b00373c912e9",
   "metadata": {},
   "outputs": [
    {
     "data": {
      "text/plain": [
       "year                   0.000317\n",
       "type                   0.000635\n",
       "country                0.007935\n",
       "area                   0.072211\n",
       "location               0.085701\n",
       "activity               0.086336\n",
       "name                   0.033328\n",
       "age                    0.449135\n",
       "injury                 0.004444\n",
       "fatal(y/n)             0.085542\n",
       "time                   0.532138\n",
       "species                0.450246\n",
       "investigator/source    0.002698\n",
       "dtype: float64"
      ]
     },
     "execution_count": 42,
     "metadata": {},
     "output_type": "execute_result"
    }
   ],
   "source": [
    "porcentaje_nulos= nulos_col[nulos_col > 0]/df.shape[0]  #estoy diviendo entre el total de mis filas para conocer el porcentaje de nulos\n",
    "porcentaje_nulos"
   ]
  },
  {
   "cell_type": "code",
   "execution_count": 43,
   "id": "fe0fa408-89a4-4e67-8753-3ccbd9beee4d",
   "metadata": {},
   "outputs": [
    {
     "data": {
      "text/plain": [
       "Index(['time', 'species'], dtype='object')"
      ]
     },
     "execution_count": 43,
     "metadata": {},
     "output_type": "execute_result"
    }
   ],
   "source": [
    "columns_drop= porcentaje_nulos[porcentaje_nulos>.45].index\n",
    "columns_drop"
   ]
  },
  {
   "cell_type": "code",
   "execution_count": 44,
   "id": "948ac877-3d36-4bdd-a871-da69c932aa9a",
   "metadata": {},
   "outputs": [
    {
     "data": {
      "text/plain": [
       "(6301, 18)"
      ]
     },
     "execution_count": 44,
     "metadata": {},
     "output_type": "execute_result"
    }
   ],
   "source": [
    "df = df.drop(columns = columns_drop)\n",
    "df.shape"
   ]
  },
  {
   "cell_type": "code",
   "execution_count": 45,
   "id": "00bc33bc-1605-4a4c-b5cf-cb560808f88c",
   "metadata": {},
   "outputs": [
    {
     "data": {
      "text/plain": [
       "case_number               0\n",
       "date                      0\n",
       "year                      2\n",
       "type                      4\n",
       "country                  50\n",
       "area                    455\n",
       "location                540\n",
       "activity                544\n",
       "name                    210\n",
       "sex                       0\n",
       "age                    2830\n",
       "injury                   28\n",
       "fatal(y/n)              539\n",
       "investigator/source      17\n",
       "pdf                       0\n",
       "cn1                       0\n",
       "cn2                       0\n",
       "original_order            0\n",
       "dtype: int64"
      ]
     },
     "execution_count": 45,
     "metadata": {},
     "output_type": "execute_result"
    }
   ],
   "source": [
    "nulos_col= df.isnull().sum()\n",
    "nulos_col"
   ]
  },
  {
   "cell_type": "markdown",
   "id": "b9d200fa-2573-4dcf-b4d9-5d04c310f3dc",
   "metadata": {},
   "source": [
    "## Columna type"
   ]
  },
  {
   "cell_type": "code",
   "execution_count": 46,
   "id": "1da683fc-6dba-40b9-9ca2-641155419a1d",
   "metadata": {},
   "outputs": [
    {
     "data": {
      "text/plain": [
       "Unprovoked      4595\n",
       "Provoked         573\n",
       "Invalid          547\n",
       "Sea Disaster     239\n",
       "Boating          203\n",
       "Boat             137\n",
       "Questionable       2\n",
       "Boatomg            1\n",
       "Name: type, dtype: int64"
      ]
     },
     "execution_count": 46,
     "metadata": {},
     "output_type": "execute_result"
    }
   ],
   "source": [
    "df.type.value_counts()"
   ]
  },
  {
   "cell_type": "code",
   "execution_count": 47,
   "id": "0258dd77-e2e8-4391-91a1-8d492ea43585",
   "metadata": {},
   "outputs": [],
   "source": [
    "tipos = {'Boat':['Boat', 'Boating', 'Boatomg'],\n",
    "          'Invalid':['', 'Questionable', 'Invalid'], \n",
    "        'Unprovoked': 'Unprovoked','Sea Disaster':'Sea Disaster','Provoked': 'Provoked' }"
   ]
  },
  {
   "cell_type": "code",
   "execution_count": 48,
   "id": "a13379a0-79de-4f83-8089-c68face2e25f",
   "metadata": {},
   "outputs": [],
   "source": [
    "def type_values(actual):\n",
    "    try:\n",
    "        llaves= [key for key, val in tipos.items() if actual in val]\n",
    "        return llaves [0]\n",
    "    except:\n",
    "        actual"
   ]
  },
  {
   "cell_type": "code",
   "execution_count": 49,
   "id": "c3b859d1-3cc0-442c-a713-3ddc6e3868c7",
   "metadata": {},
   "outputs": [],
   "source": [
    "df['type']=df['type'].apply(type_values)"
   ]
  },
  {
   "cell_type": "code",
   "execution_count": 50,
   "id": "f4335809-3222-4503-8660-844e516a9f8e",
   "metadata": {},
   "outputs": [
    {
     "data": {
      "text/plain": [
       "Unprovoked      4595\n",
       "Provoked         573\n",
       "Invalid          549\n",
       "Boat             341\n",
       "Sea Disaster     239\n",
       "UNKNOWN            4\n",
       "Name: type, dtype: int64"
      ]
     },
     "execution_count": 50,
     "metadata": {},
     "output_type": "execute_result"
    }
   ],
   "source": [
    "df['type']=df['type'].fillna('UNKNOWN')\n",
    "df.type.value_counts()"
   ]
  },
  {
   "cell_type": "markdown",
   "id": "f898f31f-dddc-4dcf-99bf-ab5bc091fb80",
   "metadata": {},
   "source": [
    "## Columna fatal"
   ]
  },
  {
   "cell_type": "code",
   "execution_count": 51,
   "id": "8dd855d0-4adc-4f63-8d18-a6f7d750a316",
   "metadata": {},
   "outputs": [
    {
     "data": {
      "text/plain": [
       "N          4292\n",
       "Y          1388\n",
       "UNKNOWN      71\n",
       " N            7\n",
       "M             1\n",
       "2017          1\n",
       "N             1\n",
       "y             1\n",
       "Name: fatal(y/n), dtype: int64"
      ]
     },
     "execution_count": 51,
     "metadata": {},
     "output_type": "execute_result"
    }
   ],
   "source": [
    "df['fatal(y/n)'].value_counts()"
   ]
  },
  {
   "cell_type": "code",
   "execution_count": 52,
   "id": "61e5f12c-848e-46c6-beb1-6a83a8863a62",
   "metadata": {},
   "outputs": [],
   "source": [
    "fatal = {'N':[' N', 'N', 'N '],\n",
    "          'Y':['Y', 'y', 'Invalid'], \n",
    "        'UNKNOWN':[ '2017', '' , 'M']}"
   ]
  },
  {
   "cell_type": "code",
   "execution_count": 53,
   "id": "4f7c7b58-fa2d-4d5e-9a93-fc42f1f581fa",
   "metadata": {},
   "outputs": [],
   "source": [
    "def fatal_values(actual):\n",
    "    try:\n",
    "        llaves= [key for key, val in fatal.items() if actual in val]\n",
    "        return llaves [0]\n",
    "    except:\n",
    "        actual"
   ]
  },
  {
   "cell_type": "code",
   "execution_count": 54,
   "id": "90db5fd1-cd36-47bf-be52-5e49f1889a80",
   "metadata": {},
   "outputs": [],
   "source": [
    "df['fatal(y/n)']=df['fatal(y/n)'].apply(fatal_values)"
   ]
  },
  {
   "cell_type": "code",
   "execution_count": 55,
   "id": "e275b7ff-ab52-48f1-9b64-de2a32f1bde6",
   "metadata": {},
   "outputs": [
    {
     "data": {
      "text/plain": [
       "N          4300\n",
       "Y          1389\n",
       "UNKNOWN     612\n",
       "Name: fatal(y/n), dtype: int64"
      ]
     },
     "execution_count": 55,
     "metadata": {},
     "output_type": "execute_result"
    }
   ],
   "source": [
    "df['fatal(y/n)']=df['fatal(y/n)'].fillna('UNKNOWN')\n",
    "df['fatal(y/n)'].value_counts()"
   ]
  },
  {
   "cell_type": "markdown",
   "id": "d8e58d03-bfa5-4f7c-a03e-16048e972eec",
   "metadata": {},
   "source": [
    "## Columna age"
   ]
  },
  {
   "cell_type": "code",
   "execution_count": 56,
   "id": "f3f66e09-8381-4ca6-9bba-cce4c808664a",
   "metadata": {},
   "outputs": [
    {
     "data": {
      "text/plain": [
       "17                154\n",
       "18                150\n",
       "19                142\n",
       "20                141\n",
       "15                139\n",
       "                 ... \n",
       "20?                 1\n",
       " 28                 1\n",
       "7      &    31      1\n",
       " 30                 1\n",
       "13 or 14            1\n",
       "Name: age, Length: 157, dtype: int64"
      ]
     },
     "execution_count": 56,
     "metadata": {},
     "output_type": "execute_result"
    }
   ],
   "source": [
    "df.age.value_counts()"
   ]
  },
  {
   "cell_type": "code",
   "execution_count": 57,
   "id": "3eee3e61-5ef7-45fc-ab57-b91628749044",
   "metadata": {},
   "outputs": [],
   "source": [
    "df_age=df.groupby(\"age\").filter(lambda x: len(x) == 1)"
   ]
  },
  {
   "cell_type": "code",
   "execution_count": 58,
   "id": "a6586ee2-c53a-407f-9ea2-6b6cf56e8d29",
   "metadata": {},
   "outputs": [
    {
     "data": {
      "text/plain": [
       "130              82\n",
       "219             60s\n",
       "235              72\n",
       "445       18 months\n",
       "613              74\n",
       "           ...     \n",
       "5181    ?    &   14\n",
       "5312       10 or 12\n",
       "5483       31 or 33\n",
       "6002             2½\n",
       "6265       13 or 14\n",
       "Name: age, Length: 75, dtype: object"
      ]
     },
     "execution_count": 58,
     "metadata": {},
     "output_type": "execute_result"
    }
   ],
   "source": [
    "df_age.age"
   ]
  },
  {
   "cell_type": "code",
   "execution_count": 59,
   "id": "7cf55419-ab5f-4a32-a753-1b6b42fdd26e",
   "metadata": {},
   "outputs": [],
   "source": [
    "string=[]\n",
    "def edad(numero): \n",
    "    for i in numero:\n",
    "        if not isinstance(numero, int):\n",
    "            string.append(numero)"
   ]
  },
  {
   "cell_type": "code",
   "execution_count": 60,
   "id": "c588fd8d-db84-4fdf-93ac-0bb8abb65d20",
   "metadata": {},
   "outputs": [],
   "source": [
    "df_age.age=df_age.age.apply(edad)"
   ]
  },
  {
   "cell_type": "code",
   "execution_count": 61,
   "id": "f862841d-2d2b-4803-a2a2-d1f03dee1aa2",
   "metadata": {},
   "outputs": [
    {
     "name": "stdout",
     "output_type": "stream",
     "text": [
      "['74 ', '18 months', '67', '>50', '(adult)', 'MAKE LINE GREEN', '\"young\"', '84', '18 to 22', 'Both 11', 'Ca. 33', '13 or 14', '6½', 'adult', '37, 67, 35, 27,  ? & 27', '9 or 10', '25 or 28', '31 or 33', '? & 19', '17 & 16', 'mid-30s', '33 or 37', '36 & 26', '23 & 20', ' 30', '34 & 19', '2½', '30 or 36', '33 & 37', 'F', '20 ', '2 to 3 months', '60s', 'Elderly', '13 or 18', 'mid-20s', '23 & 26', '87', '50 & 30', '7      &    31', '18 or 20', '21 & ?', '32 & 30', '9 months', '33 & 26', '74', '16 to 18', \"60's\", '20?', ' 28', '28, 23 & 30', 'X', '72', '12 or 13', '46 & 34', '82', 'A.M.', '28 & 26', '21, 34,24 & 35', '30 & 32', '  ', '?    &   14', '17 & 35', '\"middle-age\"', ' 43', 'Teens', '9 & 12', '10 or 12', '21 or 26', '25 to 35', '81', '45 ', '36 & 23', '86', '\\xa0 ']\n"
     ]
    },
    {
     "data": {
      "text/plain": [
       "75"
      ]
     },
     "execution_count": 61,
     "metadata": {},
     "output_type": "execute_result"
    }
   ],
   "source": [
    "unique_list = list(set(string))\n",
    "print(unique_list)\n",
    "len(unique_list)"
   ]
  },
  {
   "cell_type": "code",
   "execution_count": 62,
   "id": "a5094b91-3a43-43b6-94e0-b2f9e39aae72",
   "metadata": {},
   "outputs": [],
   "source": [
    "df.age = df.age.replace({'82':'82', '7      &    31':'7,31', '25 to 35':'25-35', \"60's\":'60', ' 28':'28', '2 to 3 months':'2,<1', '36 & 26':'36,26', '21 & ?':'21', '72':'72', '46 & 34':'46,34', '\\xa0 ':'0', 'F':'0', 'mid-30s':'30', 'adult':'>18', '18 or 20':'18,20', '23 & 26':'23,26', '60s':'60', '23 & 20':'23,20', 'mid-20s':'25', '25 or 28':'25,28', '13 or 14':'13,14', '84':'84', '32 & 30':'32,30', '(adult)':'>18', '17 & 16':'17,16', '30 & 32':'30,32', '20?':'20', '?    &   14':'14', '\"middle-age\"':'40', 'Elderly':'60', '31 or 33':'32', '50 & 30':'50,30', '  ':'0', '30 or 36':'33', ' 30':'30', '9 & 12':'9,12', 'A.M.':'0', 'Both 11':'11', '2½':'2', '18 months':'<1', '>50':'>50', '34 & 19':'34,19', '33 & 37':'33,34', '16 to 18':'17', '33 & 26':'33,26', 'Ca. 33':'33', '? & 19':'19', '21 or 26':'21,26', '13 or 18':'16', '10 or 12':'11', ' 43':'43', '6½':'6', 'MAKE LINE GREEN':'0', 'Teens':'15', '28 & 26':'28,26', '17 & 35':'17,35', '20 ':'20', '74 ':'74', '87':'87', '21, 34,24 & 35':'21,34,24,35', '67':'67', '28, 23 & 30':'28,23,30', '33 or 37':'33,37', 'X':'0', '81':'81', '74':'74', '9 or 10':'9,10', '12 or 13':'12', '9 months':'<1', '86':'86', '\"young\"':'15', '37, 67, 35, 27,  ? & 27':'37,67,35,27,27', '36 & 23':'36,26', '18 to 22':'18-22', '45 ':'45'})"
   ]
  },
  {
   "cell_type": "code",
   "execution_count": 63,
   "id": "04d750b4-68b6-4efb-ae7c-b7799cbbb759",
   "metadata": {},
   "outputs": [
    {
     "data": {
      "text/plain": [
       "17       155\n",
       "18       150\n",
       "20       143\n",
       "19       143\n",
       "15       141\n",
       "        ... \n",
       ">50        1\n",
       "18-22      1\n",
       "9,12       1\n",
       "25-35      1\n",
       "13,14      1\n",
       "Name: age, Length: 122, dtype: int64"
      ]
     },
     "execution_count": 63,
     "metadata": {},
     "output_type": "execute_result"
    }
   ],
   "source": [
    "df.age.value_counts()"
   ]
  },
  {
   "cell_type": "code",
   "execution_count": 64,
   "id": "0587d7dd-cb8f-41e0-80c4-a68af9d08f3e",
   "metadata": {},
   "outputs": [],
   "source": [
    "df['age']= df['age'].astype('string')"
   ]
  },
  {
   "cell_type": "code",
   "execution_count": 65,
   "id": "e52bf91f-7bd5-4806-8cc0-24223c97286b",
   "metadata": {},
   "outputs": [],
   "source": [
    "df.age=df.age.fillna('UNKNOWN')"
   ]
  },
  {
   "cell_type": "markdown",
   "id": "973c28b1-a1ed-487b-815c-de1dac98ea7e",
   "metadata": {},
   "source": [
    "## Columna activity"
   ]
  },
  {
   "cell_type": "code",
   "execution_count": 66,
   "id": "bb81db26-776a-497d-8b54-1b8b0d210b94",
   "metadata": {},
   "outputs": [
    {
     "data": {
      "text/plain": [
       "Surfing                                   971\n",
       "Swimming                                  869\n",
       "Fishing                                   430\n",
       "Spearfishing                              333\n",
       "Bathing                                   162\n",
       "                                         ... \n",
       "Playing with a frisbee in the shallows      1\n",
       "Sinking of the ferryboat Dumaguete          1\n",
       "Wreck of the Storm King                     1\n",
       "Feeding mullet to sharks                    1\n",
       "Wreck of  large double sailing canoe        1\n",
       "Name: activity, Length: 1532, dtype: int64"
      ]
     },
     "execution_count": 66,
     "metadata": {},
     "output_type": "execute_result"
    }
   ],
   "source": [
    "df['activity'].value_counts()"
   ]
  },
  {
   "cell_type": "code",
   "execution_count": 67,
   "id": "05793b17-89c2-40af-a295-0367c08469f0",
   "metadata": {},
   "outputs": [
    {
     "data": {
      "text/plain": [
       "1315"
      ]
     },
     "execution_count": 67,
     "metadata": {},
     "output_type": "execute_result"
    }
   ],
   "source": [
    "lista_act=list(df.groupby('activity', as_index=False).filter(lambda x: len(x) == 1).activity)\n",
    "len(lista_act)"
   ]
  },
  {
   "cell_type": "code",
   "execution_count": 68,
   "id": "974853cf-1571-4013-9127-be1d8bc45395",
   "metadata": {},
   "outputs": [],
   "source": [
    "diccionario = {'others': lista_act}\n",
    "def simplificar(actividad):\n",
    "    llave = []\n",
    "    for key,val in diccionario.items():\n",
    "        if actividad in val:\n",
    "            return key\n",
    "        else:\n",
    "            return actividad"
   ]
  },
  {
   "cell_type": "code",
   "execution_count": 69,
   "id": "a3426959-78de-421f-88f4-12cf1dbe402c",
   "metadata": {},
   "outputs": [],
   "source": [
    "df.activity=df.activity.apply(simplificar)"
   ]
  },
  {
   "cell_type": "code",
   "execution_count": 70,
   "id": "a803511f-1da2-4fbd-9369-903df1fed6c2",
   "metadata": {},
   "outputs": [
    {
     "data": {
      "text/plain": [
       "others                                                      1315\n",
       "Surfing                                                      971\n",
       "Swimming                                                     869\n",
       "Fishing                                                      430\n",
       "Spearfishing                                                 333\n",
       "                                                            ... \n",
       "Swimming alongside NOAA research vessel Discoverer             2\n",
       "Surfing (lying prone on his board)                             2\n",
       "Fishing for tuna                                               2\n",
       "Cruising                                                       2\n",
       "Boat with 5 men capsized while returning to the Amerique       2\n",
       "Name: activity, Length: 218, dtype: int64"
      ]
     },
     "execution_count": 70,
     "metadata": {},
     "output_type": "execute_result"
    }
   ],
   "source": [
    "df.activity.value_counts()"
   ]
  },
  {
   "cell_type": "code",
   "execution_count": 71,
   "id": "2b54495d-e6b8-488b-be5b-acc68fe75736",
   "metadata": {},
   "outputs": [
    {
     "data": {
      "text/plain": [
       "others                                                      1315\n",
       "Surfing                                                      971\n",
       "Swimming                                                     869\n",
       "UNKNOWN                                                      544\n",
       "Fishing                                                      430\n",
       "                                                            ... \n",
       "Spearfishing using Scuba                                       2\n",
       "Kite Boarding                                                  2\n",
       "Air disaster                                                   2\n",
       "Fishing for prawns                                             2\n",
       "Boat with 5 men capsized while returning to the Amerique       2\n",
       "Name: activity, Length: 219, dtype: int64"
      ]
     },
     "execution_count": 71,
     "metadata": {},
     "output_type": "execute_result"
    }
   ],
   "source": [
    "df.activity= df.activity.fillna('UNKNOWN')\n",
    "df.activity.value_counts()"
   ]
  },
  {
   "cell_type": "markdown",
   "id": "1ee42bf9-b9b7-4036-8977-b5ce84c1be49",
   "metadata": {},
   "source": [
    "## Orden por original_order"
   ]
  },
  {
   "cell_type": "code",
   "execution_count": 72,
   "id": "40fc7140-a424-4993-ad16-75e40b952f92",
   "metadata": {},
   "outputs": [],
   "source": [
    "df.original_order=df.original_order.astype('int64')\n",
    "df.sort_values('original_order', inplace=True)"
   ]
  },
  {
   "cell_type": "code",
   "execution_count": 73,
   "id": "a8c70f1a-dbfd-4d6d-9328-99079473585d",
   "metadata": {},
   "outputs": [
    {
     "data": {
      "text/html": [
       "<div>\n",
       "<style scoped>\n",
       "    .dataframe tbody tr th:only-of-type {\n",
       "        vertical-align: middle;\n",
       "    }\n",
       "\n",
       "    .dataframe tbody tr th {\n",
       "        vertical-align: top;\n",
       "    }\n",
       "\n",
       "    .dataframe thead th {\n",
       "        text-align: right;\n",
       "    }\n",
       "</style>\n",
       "<table border=\"1\" class=\"dataframe\">\n",
       "  <thead>\n",
       "    <tr style=\"text-align: right;\">\n",
       "      <th></th>\n",
       "      <th>case_number</th>\n",
       "      <th>date</th>\n",
       "      <th>year</th>\n",
       "      <th>type</th>\n",
       "      <th>country</th>\n",
       "      <th>area</th>\n",
       "      <th>location</th>\n",
       "      <th>activity</th>\n",
       "      <th>name</th>\n",
       "      <th>sex</th>\n",
       "      <th>age</th>\n",
       "      <th>injury</th>\n",
       "      <th>fatal(y/n)</th>\n",
       "      <th>investigator/source</th>\n",
       "      <th>pdf</th>\n",
       "      <th>cn1</th>\n",
       "      <th>cn2</th>\n",
       "      <th>original_order</th>\n",
       "    </tr>\n",
       "  </thead>\n",
       "  <tbody>\n",
       "    <tr>\n",
       "      <th>0</th>\n",
       "      <td>ND.0001</td>\n",
       "      <td>1845-1853</td>\n",
       "      <td>0.0</td>\n",
       "      <td>Unprovoked</td>\n",
       "      <td>CEYLON (SRI LANKA)</td>\n",
       "      <td>Eastern Province</td>\n",
       "      <td>Below the English fort, Trincomalee</td>\n",
       "      <td>Swimming</td>\n",
       "      <td>male</td>\n",
       "      <td>M</td>\n",
       "      <td>15</td>\n",
       "      <td>FATAL. \"Shark bit him in half, carrying away t...</td>\n",
       "      <td>Y</td>\n",
       "      <td>S.W. Baker</td>\n",
       "      <td>ND-0001-Ceylon.pdf</td>\n",
       "      <td>ND.0001</td>\n",
       "      <td>ND.0001</td>\n",
       "      <td>2</td>\n",
       "    </tr>\n",
       "    <tr>\n",
       "      <th>1</th>\n",
       "      <td>ND.0002</td>\n",
       "      <td>1883-1889</td>\n",
       "      <td>0.0</td>\n",
       "      <td>Unprovoked</td>\n",
       "      <td>PANAMA</td>\n",
       "      <td>NaN</td>\n",
       "      <td>Panama Bay 8ºN, 79ºW</td>\n",
       "      <td>UNKNOWN</td>\n",
       "      <td>Jules Patterson</td>\n",
       "      <td>M</td>\n",
       "      <td>UNKNOWN</td>\n",
       "      <td>FATAL</td>\n",
       "      <td>Y</td>\n",
       "      <td>The Sun, 10/20/1938</td>\n",
       "      <td>ND-0002-JulesPatterson.pdf</td>\n",
       "      <td>ND.0002</td>\n",
       "      <td>ND.0002</td>\n",
       "      <td>3</td>\n",
       "    </tr>\n",
       "    <tr>\n",
       "      <th>2</th>\n",
       "      <td>ND.0003</td>\n",
       "      <td>1900-1905</td>\n",
       "      <td>0.0</td>\n",
       "      <td>Unprovoked</td>\n",
       "      <td>USA</td>\n",
       "      <td>North Carolina</td>\n",
       "      <td>Ocracoke Inlet</td>\n",
       "      <td>Swimming</td>\n",
       "      <td>Coast Guard personnel</td>\n",
       "      <td>M</td>\n",
       "      <td>UNKNOWN</td>\n",
       "      <td>FATAL</td>\n",
       "      <td>Y</td>\n",
       "      <td>F. Schwartz, p.23; C. Creswell, GSAF</td>\n",
       "      <td>ND-0003-Ocracoke_1900-1905.pdf</td>\n",
       "      <td>ND.0003</td>\n",
       "      <td>ND.0003</td>\n",
       "      <td>4</td>\n",
       "    </tr>\n",
       "    <tr>\n",
       "      <th>3</th>\n",
       "      <td>ND.0004</td>\n",
       "      <td>Before 1903</td>\n",
       "      <td>0.0</td>\n",
       "      <td>Unprovoked</td>\n",
       "      <td>AUSTRALIA</td>\n",
       "      <td>Western Australia</td>\n",
       "      <td>NaN</td>\n",
       "      <td>Pearl diving</td>\n",
       "      <td>Ahmun</td>\n",
       "      <td>M</td>\n",
       "      <td>UNKNOWN</td>\n",
       "      <td>FATAL</td>\n",
       "      <td>Y</td>\n",
       "      <td>H. Taunton; N. Bartlett,  pp. 233-234</td>\n",
       "      <td>ND-0004-Ahmun.pdf</td>\n",
       "      <td>ND.0004</td>\n",
       "      <td>ND.0004</td>\n",
       "      <td>5</td>\n",
       "    </tr>\n",
       "    <tr>\n",
       "      <th>4</th>\n",
       "      <td>ND.0005</td>\n",
       "      <td>Before 1903</td>\n",
       "      <td>0.0</td>\n",
       "      <td>Unprovoked</td>\n",
       "      <td>AUSTRALIA</td>\n",
       "      <td>Western Australia</td>\n",
       "      <td>Roebuck Bay</td>\n",
       "      <td>Diving</td>\n",
       "      <td>male</td>\n",
       "      <td>M</td>\n",
       "      <td>UNKNOWN</td>\n",
       "      <td>FATAL</td>\n",
       "      <td>Y</td>\n",
       "      <td>H. Taunton; N. Bartlett,  p. 234</td>\n",
       "      <td>ND-0005-RoebuckBay.pdf</td>\n",
       "      <td>ND.0005</td>\n",
       "      <td>ND.0005</td>\n",
       "      <td>6</td>\n",
       "    </tr>\n",
       "  </tbody>\n",
       "</table>\n",
       "</div>"
      ],
      "text/plain": [
       "  case_number         date  year        type             country  \\\n",
       "0     ND.0001    1845-1853   0.0  Unprovoked  CEYLON (SRI LANKA)   \n",
       "1     ND.0002    1883-1889   0.0  Unprovoked              PANAMA   \n",
       "2     ND.0003    1900-1905   0.0  Unprovoked                 USA   \n",
       "3     ND.0004  Before 1903   0.0  Unprovoked           AUSTRALIA   \n",
       "4     ND.0005  Before 1903   0.0  Unprovoked           AUSTRALIA   \n",
       "\n",
       "                area                             location      activity  \\\n",
       "0   Eastern Province  Below the English fort, Trincomalee      Swimming   \n",
       "1                NaN                 Panama Bay 8ºN, 79ºW       UNKNOWN   \n",
       "2     North Carolina                       Ocracoke Inlet      Swimming   \n",
       "3  Western Australia                                  NaN  Pearl diving   \n",
       "4  Western Australia                          Roebuck Bay        Diving   \n",
       "\n",
       "                    name sex      age  \\\n",
       "0                   male   M       15   \n",
       "1        Jules Patterson   M  UNKNOWN   \n",
       "2  Coast Guard personnel   M  UNKNOWN   \n",
       "3                  Ahmun   M  UNKNOWN   \n",
       "4                   male   M  UNKNOWN   \n",
       "\n",
       "                                              injury fatal(y/n)  \\\n",
       "0  FATAL. \"Shark bit him in half, carrying away t...          Y   \n",
       "1                                              FATAL          Y   \n",
       "2                                              FATAL          Y   \n",
       "3                                              FATAL          Y   \n",
       "4                                              FATAL          Y   \n",
       "\n",
       "                     investigator/source                             pdf  \\\n",
       "0                             S.W. Baker              ND-0001-Ceylon.pdf   \n",
       "1                    The Sun, 10/20/1938      ND-0002-JulesPatterson.pdf   \n",
       "2   F. Schwartz, p.23; C. Creswell, GSAF  ND-0003-Ocracoke_1900-1905.pdf   \n",
       "3  H. Taunton; N. Bartlett,  pp. 233-234               ND-0004-Ahmun.pdf   \n",
       "4       H. Taunton; N. Bartlett,  p. 234          ND-0005-RoebuckBay.pdf   \n",
       "\n",
       "       cn1      cn2  original_order  \n",
       "0  ND.0001  ND.0001               2  \n",
       "1  ND.0002  ND.0002               3  \n",
       "2  ND.0003  ND.0003               4  \n",
       "3  ND.0004  ND.0004               5  \n",
       "4  ND.0005  ND.0005               6  "
      ]
     },
     "execution_count": 73,
     "metadata": {},
     "output_type": "execute_result"
    }
   ],
   "source": [
    "df.reset_index(drop=True, inplace=True)\n",
    "df.head()"
   ]
  },
  {
   "cell_type": "markdown",
   "id": "c77fbf97-c860-4ae2-8342-025af91dc651",
   "metadata": {},
   "source": [
    "## Columna country"
   ]
  },
  {
   "cell_type": "code",
   "execution_count": 74,
   "id": "e71b0ad5-4783-42ab-bd60-fdb7b070a8c9",
   "metadata": {},
   "outputs": [],
   "source": [
    "df.country=df.country.str.upper()"
   ]
  },
  {
   "cell_type": "code",
   "execution_count": 75,
   "id": "42c375aa-2b02-4e6f-900d-074617c3eb5a",
   "metadata": {},
   "outputs": [
    {
     "data": {
      "text/plain": [
       "50"
      ]
     },
     "execution_count": 75,
     "metadata": {},
     "output_type": "execute_result"
    }
   ],
   "source": [
    "df.country.isnull().sum()"
   ]
  },
  {
   "cell_type": "code",
   "execution_count": 76,
   "id": "fe8fb3ac-719e-455f-88da-1554976bbe68",
   "metadata": {},
   "outputs": [
    {
     "data": {
      "text/html": [
       "<div>\n",
       "<style scoped>\n",
       "    .dataframe tbody tr th:only-of-type {\n",
       "        vertical-align: middle;\n",
       "    }\n",
       "\n",
       "    .dataframe tbody tr th {\n",
       "        vertical-align: top;\n",
       "    }\n",
       "\n",
       "    .dataframe thead th {\n",
       "        text-align: right;\n",
       "    }\n",
       "</style>\n",
       "<table border=\"1\" class=\"dataframe\">\n",
       "  <thead>\n",
       "    <tr style=\"text-align: right;\">\n",
       "      <th></th>\n",
       "      <th>country</th>\n",
       "      <th>area</th>\n",
       "      <th>location</th>\n",
       "    </tr>\n",
       "  </thead>\n",
       "  <tbody>\n",
       "    <tr>\n",
       "      <th>42</th>\n",
       "      <td>NaN</td>\n",
       "      <td>NaN</td>\n",
       "      <td>NaN</td>\n",
       "    </tr>\n",
       "    <tr>\n",
       "      <th>95</th>\n",
       "      <td>NaN</td>\n",
       "      <td>NaN</td>\n",
       "      <td>In a river feeding into the Bay of Bengal</td>\n",
       "    </tr>\n",
       "    <tr>\n",
       "      <th>102</th>\n",
       "      <td>NaN</td>\n",
       "      <td>NaN</td>\n",
       "      <td>NaN</td>\n",
       "    </tr>\n",
       "    <tr>\n",
       "      <th>124</th>\n",
       "      <td>NaN</td>\n",
       "      <td>Ionian Sea</td>\n",
       "      <td>NaN</td>\n",
       "    </tr>\n",
       "    <tr>\n",
       "      <th>126</th>\n",
       "      <td>NaN</td>\n",
       "      <td>Ionian Sea</td>\n",
       "      <td>NaN</td>\n",
       "    </tr>\n",
       "  </tbody>\n",
       "</table>\n",
       "</div>"
      ],
      "text/plain": [
       "    country        area                                   location\n",
       "42      NaN         NaN                                        NaN\n",
       "95      NaN         NaN  In a river feeding into the Bay of Bengal\n",
       "102     NaN         NaN                                        NaN\n",
       "124     NaN  Ionian Sea                                        NaN\n",
       "126     NaN  Ionian Sea                                        NaN"
      ]
     },
     "execution_count": 76,
     "metadata": {},
     "output_type": "execute_result"
    }
   ],
   "source": [
    "df.loc[df[df.country.isnull()].index][['country', 'area', 'location']].head()"
   ]
  },
  {
   "cell_type": "code",
   "execution_count": 77,
   "id": "6eb96956-074d-417b-845f-a0d115b8ac30",
   "metadata": {},
   "outputs": [],
   "source": [
    "df.country=df.country.fillna('UNKNOWN')"
   ]
  },
  {
   "cell_type": "markdown",
   "id": "c17d191d-85e1-435e-8ad9-93fe3d9db643",
   "metadata": {},
   "source": [
    "## Columna investigator/source"
   ]
  },
  {
   "cell_type": "code",
   "execution_count": 78,
   "id": "b34fa9a3-1c89-40cd-8bf7-f689a7044ded",
   "metadata": {},
   "outputs": [],
   "source": [
    "df['investigator/source']=df['investigator/source'].fillna('UNKNOWN')"
   ]
  },
  {
   "cell_type": "markdown",
   "id": "281fd836-650b-4ab9-bfaf-df2c1529d0b0",
   "metadata": {},
   "source": [
    "### Eliminar más columnas "
   ]
  },
  {
   "cell_type": "code",
   "execution_count": 79,
   "id": "9980e646-4592-4d28-ab4c-e8c424e279ef",
   "metadata": {},
   "outputs": [
    {
     "data": {
      "text/plain": [
       "(6301, 14)"
      ]
     },
     "execution_count": 79,
     "metadata": {},
     "output_type": "execute_result"
    }
   ],
   "source": [
    "columnas=['area', 'location','cn1','cn2']\n",
    "df = df.drop(columns= columnas)\n",
    "df.shape"
   ]
  },
  {
   "cell_type": "raw",
   "id": "1e71addf-9807-458b-a5a6-c1d50a18a5c9",
   "metadata": {},
   "source": []
  },
  {
   "cell_type": "code",
   "execution_count": 80,
   "id": "8d59d172-b4c9-4b27-b25d-7b2a1bef9f18",
   "metadata": {},
   "outputs": [
    {
     "data": {
      "text/html": [
       "<div>\n",
       "<style scoped>\n",
       "    .dataframe tbody tr th:only-of-type {\n",
       "        vertical-align: middle;\n",
       "    }\n",
       "\n",
       "    .dataframe tbody tr th {\n",
       "        vertical-align: top;\n",
       "    }\n",
       "\n",
       "    .dataframe thead th {\n",
       "        text-align: right;\n",
       "    }\n",
       "</style>\n",
       "<table border=\"1\" class=\"dataframe\">\n",
       "  <thead>\n",
       "    <tr style=\"text-align: right;\">\n",
       "      <th></th>\n",
       "      <th>case_number</th>\n",
       "      <th>date</th>\n",
       "      <th>year</th>\n",
       "      <th>type</th>\n",
       "      <th>country</th>\n",
       "      <th>activity</th>\n",
       "      <th>name</th>\n",
       "      <th>sex</th>\n",
       "      <th>age</th>\n",
       "      <th>injury</th>\n",
       "      <th>fatal(y/n)</th>\n",
       "      <th>investigator/source</th>\n",
       "      <th>pdf</th>\n",
       "      <th>original_order</th>\n",
       "    </tr>\n",
       "  </thead>\n",
       "  <tbody>\n",
       "    <tr>\n",
       "      <th>0</th>\n",
       "      <td>ND.0001</td>\n",
       "      <td>1845-1853</td>\n",
       "      <td>0.0</td>\n",
       "      <td>Unprovoked</td>\n",
       "      <td>CEYLON (SRI LANKA)</td>\n",
       "      <td>Swimming</td>\n",
       "      <td>male</td>\n",
       "      <td>M</td>\n",
       "      <td>15</td>\n",
       "      <td>FATAL. \"Shark bit him in half, carrying away t...</td>\n",
       "      <td>Y</td>\n",
       "      <td>S.W. Baker</td>\n",
       "      <td>ND-0001-Ceylon.pdf</td>\n",
       "      <td>2</td>\n",
       "    </tr>\n",
       "    <tr>\n",
       "      <th>1</th>\n",
       "      <td>ND.0002</td>\n",
       "      <td>1883-1889</td>\n",
       "      <td>0.0</td>\n",
       "      <td>Unprovoked</td>\n",
       "      <td>PANAMA</td>\n",
       "      <td>UNKNOWN</td>\n",
       "      <td>Jules Patterson</td>\n",
       "      <td>M</td>\n",
       "      <td>UNKNOWN</td>\n",
       "      <td>FATAL</td>\n",
       "      <td>Y</td>\n",
       "      <td>The Sun, 10/20/1938</td>\n",
       "      <td>ND-0002-JulesPatterson.pdf</td>\n",
       "      <td>3</td>\n",
       "    </tr>\n",
       "    <tr>\n",
       "      <th>2</th>\n",
       "      <td>ND.0003</td>\n",
       "      <td>1900-1905</td>\n",
       "      <td>0.0</td>\n",
       "      <td>Unprovoked</td>\n",
       "      <td>USA</td>\n",
       "      <td>Swimming</td>\n",
       "      <td>Coast Guard personnel</td>\n",
       "      <td>M</td>\n",
       "      <td>UNKNOWN</td>\n",
       "      <td>FATAL</td>\n",
       "      <td>Y</td>\n",
       "      <td>F. Schwartz, p.23; C. Creswell, GSAF</td>\n",
       "      <td>ND-0003-Ocracoke_1900-1905.pdf</td>\n",
       "      <td>4</td>\n",
       "    </tr>\n",
       "    <tr>\n",
       "      <th>3</th>\n",
       "      <td>ND.0004</td>\n",
       "      <td>Before 1903</td>\n",
       "      <td>0.0</td>\n",
       "      <td>Unprovoked</td>\n",
       "      <td>AUSTRALIA</td>\n",
       "      <td>Pearl diving</td>\n",
       "      <td>Ahmun</td>\n",
       "      <td>M</td>\n",
       "      <td>UNKNOWN</td>\n",
       "      <td>FATAL</td>\n",
       "      <td>Y</td>\n",
       "      <td>H. Taunton; N. Bartlett,  pp. 233-234</td>\n",
       "      <td>ND-0004-Ahmun.pdf</td>\n",
       "      <td>5</td>\n",
       "    </tr>\n",
       "    <tr>\n",
       "      <th>4</th>\n",
       "      <td>ND.0005</td>\n",
       "      <td>Before 1903</td>\n",
       "      <td>0.0</td>\n",
       "      <td>Unprovoked</td>\n",
       "      <td>AUSTRALIA</td>\n",
       "      <td>Diving</td>\n",
       "      <td>male</td>\n",
       "      <td>M</td>\n",
       "      <td>UNKNOWN</td>\n",
       "      <td>FATAL</td>\n",
       "      <td>Y</td>\n",
       "      <td>H. Taunton; N. Bartlett,  p. 234</td>\n",
       "      <td>ND-0005-RoebuckBay.pdf</td>\n",
       "      <td>6</td>\n",
       "    </tr>\n",
       "    <tr>\n",
       "      <th>5</th>\n",
       "      <td>ND.0006</td>\n",
       "      <td>Before 1906</td>\n",
       "      <td>0.0</td>\n",
       "      <td>Unprovoked</td>\n",
       "      <td>AUSTRALIA</td>\n",
       "      <td>Swimming</td>\n",
       "      <td>Arab boy</td>\n",
       "      <td>M</td>\n",
       "      <td>UNKNOWN</td>\n",
       "      <td>FATAL</td>\n",
       "      <td>Y</td>\n",
       "      <td>L. Becke in New York Sun, 9/9/1906; L. Schultz...</td>\n",
       "      <td>ND-0006-ArabBoy-Prymount.pdf</td>\n",
       "      <td>7</td>\n",
       "    </tr>\n",
       "    <tr>\n",
       "      <th>6</th>\n",
       "      <td>ND.0007</td>\n",
       "      <td>Before 1906</td>\n",
       "      <td>0.0</td>\n",
       "      <td>Unprovoked</td>\n",
       "      <td>AUSTRALIA</td>\n",
       "      <td>Fishing</td>\n",
       "      <td>fisherman</td>\n",
       "      <td>M</td>\n",
       "      <td>UNKNOWN</td>\n",
       "      <td>FATAL</td>\n",
       "      <td>Y</td>\n",
       "      <td>NY Sun, 9/9/1906, referring to account by Loui...</td>\n",
       "      <td>ND-0007 - Fisherman-Australia.pdf</td>\n",
       "      <td>8</td>\n",
       "    </tr>\n",
       "    <tr>\n",
       "      <th>7</th>\n",
       "      <td>ND.0008</td>\n",
       "      <td>Before 1906</td>\n",
       "      <td>0.0</td>\n",
       "      <td>Unprovoked</td>\n",
       "      <td>AUSTRALIA</td>\n",
       "      <td>Fishing</td>\n",
       "      <td>fisherman</td>\n",
       "      <td>M</td>\n",
       "      <td>UNKNOWN</td>\n",
       "      <td>FATAL</td>\n",
       "      <td>Y</td>\n",
       "      <td>NY Sun, 9/9/1906, referring to account by Loui...</td>\n",
       "      <td>ND-0008-Fisherman2-Australia.pdf</td>\n",
       "      <td>9</td>\n",
       "    </tr>\n",
       "    <tr>\n",
       "      <th>8</th>\n",
       "      <td>ND.0009</td>\n",
       "      <td>Before 1906</td>\n",
       "      <td>0.0</td>\n",
       "      <td>Unprovoked</td>\n",
       "      <td>AUSTRALIA</td>\n",
       "      <td>Fishing</td>\n",
       "      <td>boy</td>\n",
       "      <td>M</td>\n",
       "      <td>UNKNOWN</td>\n",
       "      <td>FATAL, knocked overboard by tail of shark &amp; ca...</td>\n",
       "      <td>Y</td>\n",
       "      <td>NY Sun, 9/9/1906, referring to account by Loui...</td>\n",
       "      <td>ND-0009-boy-Australia.pdf</td>\n",
       "      <td>10</td>\n",
       "    </tr>\n",
       "    <tr>\n",
       "      <th>9</th>\n",
       "      <td>ND.0010</td>\n",
       "      <td>Circa 1862</td>\n",
       "      <td>0.0</td>\n",
       "      <td>Unprovoked</td>\n",
       "      <td>USA</td>\n",
       "      <td>UNKNOWN</td>\n",
       "      <td>A \"chiefess\"</td>\n",
       "      <td>F</td>\n",
       "      <td>UNKNOWN</td>\n",
       "      <td>Ankle bitten</td>\n",
       "      <td>N</td>\n",
       "      <td>Captain W. Young</td>\n",
       "      <td>ND-0010-Puna Hawaii.pdf</td>\n",
       "      <td>11</td>\n",
       "    </tr>\n",
       "    <tr>\n",
       "      <th>10</th>\n",
       "      <td>ND.0011</td>\n",
       "      <td>Before 1911</td>\n",
       "      <td>0.0</td>\n",
       "      <td>Unprovoked</td>\n",
       "      <td>ASIA?</td>\n",
       "      <td>Swimming</td>\n",
       "      <td>Mr. Masury</td>\n",
       "      <td>M</td>\n",
       "      <td>UNKNOWN</td>\n",
       "      <td>Foot severed</td>\n",
       "      <td>N</td>\n",
       "      <td>Ref. J. T. Dubois in N.Y. Sun, 3/19/1911</td>\n",
       "      <td>ND-0011-Masury.pdf</td>\n",
       "      <td>12</td>\n",
       "    </tr>\n",
       "    <tr>\n",
       "      <th>11</th>\n",
       "      <td>ND.0012</td>\n",
       "      <td>Before 19-Jul-1913</td>\n",
       "      <td>0.0</td>\n",
       "      <td>Unprovoked</td>\n",
       "      <td>SOUTH AFRICA</td>\n",
       "      <td>Wading</td>\n",
       "      <td>a young Scotsman</td>\n",
       "      <td>M</td>\n",
       "      <td>UNKNOWN</td>\n",
       "      <td>FATAL, leg stripped of flesh</td>\n",
       "      <td>Y</td>\n",
       "      <td>Rural New Yorker, 7/19/1913</td>\n",
       "      <td>ND-0012-Durban-Scotsman.pdf</td>\n",
       "      <td>13</td>\n",
       "    </tr>\n",
       "    <tr>\n",
       "      <th>12</th>\n",
       "      <td>ND.0013</td>\n",
       "      <td>No date (3 days after preceding incident) &amp; pr...</td>\n",
       "      <td>0.0</td>\n",
       "      <td>Unprovoked</td>\n",
       "      <td>SOUTH AFRICA</td>\n",
       "      <td>Fishing</td>\n",
       "      <td>a native fisherman</td>\n",
       "      <td>M</td>\n",
       "      <td>UNKNOWN</td>\n",
       "      <td>FATAL, body not recovered but shark was caught...</td>\n",
       "      <td>Y</td>\n",
       "      <td>Rural New Yorker, 7/19/1913</td>\n",
       "      <td>ND-0013-Durban-native-fisherman.pdf</td>\n",
       "      <td>14</td>\n",
       "    </tr>\n",
       "    <tr>\n",
       "      <th>13</th>\n",
       "      <td>ND.0014</td>\n",
       "      <td>Before 17-Jul-1916</td>\n",
       "      <td>0.0</td>\n",
       "      <td>Unprovoked</td>\n",
       "      <td>USA</td>\n",
       "      <td>Swimming</td>\n",
       "      <td>\"youthful male\"</td>\n",
       "      <td>M</td>\n",
       "      <td>UNKNOWN</td>\n",
       "      <td>\"Lost leg\"</td>\n",
       "      <td>N</td>\n",
       "      <td>C. Creswell, GSAF; Wilmington Star, 7/17/1916</td>\n",
       "      <td>ND-0014-pre1916-NorthCarolina.pdf</td>\n",
       "      <td>15</td>\n",
       "    </tr>\n",
       "    <tr>\n",
       "      <th>14</th>\n",
       "      <td>ND.0015</td>\n",
       "      <td>Before 1917</td>\n",
       "      <td>0.0</td>\n",
       "      <td>Unprovoked</td>\n",
       "      <td>FIJI</td>\n",
       "      <td>others</td>\n",
       "      <td>20 Fijians</td>\n",
       "      <td>UNKNOWN</td>\n",
       "      <td>UNKNOWN</td>\n",
       "      <td>FATAL, 18 people  were killed by sharks, 2 sur...</td>\n",
       "      <td>Y</td>\n",
       "      <td>Fijian Society papers presented April 17, 1918...</td>\n",
       "      <td>ND-0015-FijianCanoe.pdf</td>\n",
       "      <td>16</td>\n",
       "    </tr>\n",
       "    <tr>\n",
       "      <th>15</th>\n",
       "      <td>ND.0016</td>\n",
       "      <td>Before 1921</td>\n",
       "      <td>0.0</td>\n",
       "      <td>Unprovoked</td>\n",
       "      <td>SOUTH AFRICA</td>\n",
       "      <td>others</td>\n",
       "      <td>male</td>\n",
       "      <td>M</td>\n",
       "      <td>UNKNOWN</td>\n",
       "      <td>FATAL</td>\n",
       "      <td>Y</td>\n",
       "      <td>Captain A. Anderson,  Natal Mercury, 12/31/192...</td>\n",
       "      <td>ND-0016- Durban-PostOffice.pdf</td>\n",
       "      <td>17</td>\n",
       "    </tr>\n",
       "    <tr>\n",
       "      <th>16</th>\n",
       "      <td>ND.0017</td>\n",
       "      <td>Before 1921</td>\n",
       "      <td>0.0</td>\n",
       "      <td>Unprovoked</td>\n",
       "      <td>SOUTH AFRICA</td>\n",
       "      <td>others</td>\n",
       "      <td>male</td>\n",
       "      <td>M</td>\n",
       "      <td>UNKNOWN</td>\n",
       "      <td>FATAL</td>\n",
       "      <td>Y</td>\n",
       "      <td>Captain A. Anderson,  Natal Mercury, 12/31/192...</td>\n",
       "      <td>ND-0017-alongside-ship.pdf</td>\n",
       "      <td>18</td>\n",
       "    </tr>\n",
       "    <tr>\n",
       "      <th>17</th>\n",
       "      <td>ND.0018</td>\n",
       "      <td>Before 1911</td>\n",
       "      <td>0.0</td>\n",
       "      <td>Unprovoked</td>\n",
       "      <td>VIETNAM</td>\n",
       "      <td>others</td>\n",
       "      <td>crewman</td>\n",
       "      <td>M</td>\n",
       "      <td>UNKNOWN</td>\n",
       "      <td>Foot bitten</td>\n",
       "      <td>N</td>\n",
       "      <td>Daily Kennebec Journal, 3/27/1911</td>\n",
       "      <td>ND-0018-Vietnam.pdf</td>\n",
       "      <td>19</td>\n",
       "    </tr>\n",
       "    <tr>\n",
       "      <th>18</th>\n",
       "      <td>ND.0019</td>\n",
       "      <td>Before 1921</td>\n",
       "      <td>0.0</td>\n",
       "      <td>Unprovoked</td>\n",
       "      <td>USA</td>\n",
       "      <td>Fishing</td>\n",
       "      <td>James Kelley</td>\n",
       "      <td>M</td>\n",
       "      <td>UNKNOWN</td>\n",
       "      <td>2-inch lacerations</td>\n",
       "      <td>N</td>\n",
       "      <td>T. Helm, p.219</td>\n",
       "      <td>ND-0019-Kelley.pdf</td>\n",
       "      <td>20</td>\n",
       "    </tr>\n",
       "    <tr>\n",
       "      <th>19</th>\n",
       "      <td>ND.0020</td>\n",
       "      <td>1920 -1923</td>\n",
       "      <td>0.0</td>\n",
       "      <td>Unprovoked</td>\n",
       "      <td>AUSTRALIA</td>\n",
       "      <td>UNKNOWN</td>\n",
       "      <td>3 Japanese divers</td>\n",
       "      <td>M</td>\n",
       "      <td>UNKNOWN</td>\n",
       "      <td>FATAL</td>\n",
       "      <td>Y</td>\n",
       "      <td>V.M. Coppleson (1958), p.241</td>\n",
       "      <td>ND-0020-3JapaneseDivers.pdf</td>\n",
       "      <td>21</td>\n",
       "    </tr>\n",
       "  </tbody>\n",
       "</table>\n",
       "</div>"
      ],
      "text/plain": [
       "   case_number                                               date  year  \\\n",
       "0      ND.0001                                          1845-1853   0.0   \n",
       "1      ND.0002                                          1883-1889   0.0   \n",
       "2      ND.0003                                          1900-1905   0.0   \n",
       "3      ND.0004                                        Before 1903   0.0   \n",
       "4      ND.0005                                        Before 1903   0.0   \n",
       "5      ND.0006                                        Before 1906   0.0   \n",
       "6      ND.0007                                        Before 1906   0.0   \n",
       "7      ND.0008                                        Before 1906   0.0   \n",
       "8      ND.0009                                        Before 1906   0.0   \n",
       "9      ND.0010                                         Circa 1862   0.0   \n",
       "10     ND.0011                                        Before 1911   0.0   \n",
       "11     ND.0012                                 Before 19-Jul-1913   0.0   \n",
       "12     ND.0013  No date (3 days after preceding incident) & pr...   0.0   \n",
       "13     ND.0014                                 Before 17-Jul-1916   0.0   \n",
       "14     ND.0015                                        Before 1917   0.0   \n",
       "15     ND.0016                                        Before 1921   0.0   \n",
       "16     ND.0017                                        Before 1921   0.0   \n",
       "17     ND.0018                                        Before 1911   0.0   \n",
       "18     ND.0019                                        Before 1921   0.0   \n",
       "19     ND.0020                                         1920 -1923   0.0   \n",
       "\n",
       "          type             country      activity                   name  \\\n",
       "0   Unprovoked  CEYLON (SRI LANKA)      Swimming                   male   \n",
       "1   Unprovoked              PANAMA       UNKNOWN        Jules Patterson   \n",
       "2   Unprovoked                 USA      Swimming  Coast Guard personnel   \n",
       "3   Unprovoked           AUSTRALIA  Pearl diving                  Ahmun   \n",
       "4   Unprovoked           AUSTRALIA        Diving                   male   \n",
       "5   Unprovoked           AUSTRALIA      Swimming               Arab boy   \n",
       "6   Unprovoked           AUSTRALIA       Fishing              fisherman   \n",
       "7   Unprovoked           AUSTRALIA       Fishing              fisherman   \n",
       "8   Unprovoked           AUSTRALIA       Fishing                    boy   \n",
       "9   Unprovoked                 USA       UNKNOWN           A \"chiefess\"   \n",
       "10  Unprovoked               ASIA?      Swimming             Mr. Masury   \n",
       "11  Unprovoked        SOUTH AFRICA        Wading       a young Scotsman   \n",
       "12  Unprovoked        SOUTH AFRICA       Fishing     a native fisherman   \n",
       "13  Unprovoked                 USA      Swimming        \"youthful male\"   \n",
       "14  Unprovoked                FIJI        others             20 Fijians   \n",
       "15  Unprovoked        SOUTH AFRICA        others                   male   \n",
       "16  Unprovoked        SOUTH AFRICA        others                   male   \n",
       "17  Unprovoked             VIETNAM        others                crewman   \n",
       "18  Unprovoked                 USA       Fishing           James Kelley   \n",
       "19  Unprovoked           AUSTRALIA       UNKNOWN      3 Japanese divers   \n",
       "\n",
       "        sex      age                                             injury  \\\n",
       "0         M       15  FATAL. \"Shark bit him in half, carrying away t...   \n",
       "1         M  UNKNOWN                                              FATAL   \n",
       "2         M  UNKNOWN                                              FATAL   \n",
       "3         M  UNKNOWN                                              FATAL   \n",
       "4         M  UNKNOWN                                              FATAL   \n",
       "5         M  UNKNOWN                                              FATAL   \n",
       "6         M  UNKNOWN                                              FATAL   \n",
       "7         M  UNKNOWN                                              FATAL   \n",
       "8         M  UNKNOWN  FATAL, knocked overboard by tail of shark & ca...   \n",
       "9         F  UNKNOWN                                       Ankle bitten   \n",
       "10        M  UNKNOWN                                       Foot severed   \n",
       "11        M  UNKNOWN                     FATAL, leg stripped of flesh     \n",
       "12        M  UNKNOWN  FATAL, body not recovered but shark was caught...   \n",
       "13        M  UNKNOWN                                         \"Lost leg\"   \n",
       "14  UNKNOWN  UNKNOWN  FATAL, 18 people  were killed by sharks, 2 sur...   \n",
       "15        M  UNKNOWN                                              FATAL   \n",
       "16        M  UNKNOWN                                              FATAL   \n",
       "17        M  UNKNOWN                                        Foot bitten   \n",
       "18        M  UNKNOWN                                 2-inch lacerations   \n",
       "19        M  UNKNOWN                                              FATAL   \n",
       "\n",
       "   fatal(y/n)                                investigator/source  \\\n",
       "0           Y                                         S.W. Baker   \n",
       "1           Y                                The Sun, 10/20/1938   \n",
       "2           Y               F. Schwartz, p.23; C. Creswell, GSAF   \n",
       "3           Y              H. Taunton; N. Bartlett,  pp. 233-234   \n",
       "4           Y                   H. Taunton; N. Bartlett,  p. 234   \n",
       "5           Y  L. Becke in New York Sun, 9/9/1906; L. Schultz...   \n",
       "6           Y  NY Sun, 9/9/1906, referring to account by Loui...   \n",
       "7           Y  NY Sun, 9/9/1906, referring to account by Loui...   \n",
       "8           Y  NY Sun, 9/9/1906, referring to account by Loui...   \n",
       "9           N                                   Captain W. Young   \n",
       "10          N          Ref. J. T. Dubois in N.Y. Sun, 3/19/1911    \n",
       "11          Y                        Rural New Yorker, 7/19/1913   \n",
       "12          Y                       Rural New Yorker, 7/19/1913    \n",
       "13          N     C. Creswell, GSAF; Wilmington Star, 7/17/1916    \n",
       "14          Y  Fijian Society papers presented April 17, 1918...   \n",
       "15          Y  Captain A. Anderson,  Natal Mercury, 12/31/192...   \n",
       "16          Y  Captain A. Anderson,  Natal Mercury, 12/31/192...   \n",
       "17          N                  Daily Kennebec Journal, 3/27/1911   \n",
       "18          N                                     T. Helm, p.219   \n",
       "19          Y                       V.M. Coppleson (1958), p.241   \n",
       "\n",
       "                                    pdf  original_order  \n",
       "0                    ND-0001-Ceylon.pdf               2  \n",
       "1            ND-0002-JulesPatterson.pdf               3  \n",
       "2        ND-0003-Ocracoke_1900-1905.pdf               4  \n",
       "3                     ND-0004-Ahmun.pdf               5  \n",
       "4                ND-0005-RoebuckBay.pdf               6  \n",
       "5          ND-0006-ArabBoy-Prymount.pdf               7  \n",
       "6     ND-0007 - Fisherman-Australia.pdf               8  \n",
       "7      ND-0008-Fisherman2-Australia.pdf               9  \n",
       "8             ND-0009-boy-Australia.pdf              10  \n",
       "9               ND-0010-Puna Hawaii.pdf              11  \n",
       "10                   ND-0011-Masury.pdf              12  \n",
       "11          ND-0012-Durban-Scotsman.pdf              13  \n",
       "12  ND-0013-Durban-native-fisherman.pdf              14  \n",
       "13    ND-0014-pre1916-NorthCarolina.pdf              15  \n",
       "14              ND-0015-FijianCanoe.pdf              16  \n",
       "15       ND-0016- Durban-PostOffice.pdf              17  \n",
       "16           ND-0017-alongside-ship.pdf              18  \n",
       "17                  ND-0018-Vietnam.pdf              19  \n",
       "18                   ND-0019-Kelley.pdf              20  \n",
       "19          ND-0020-3JapaneseDivers.pdf              21  "
      ]
     },
     "execution_count": 80,
     "metadata": {},
     "output_type": "execute_result"
    }
   ],
   "source": [
    "df.head(20)"
   ]
  },
  {
   "cell_type": "markdown",
   "id": "031653bf-0b79-4401-9fcd-36dfc3ed0cb2",
   "metadata": {},
   "source": [
    "### Convertir en CSV"
   ]
  },
  {
   "cell_type": "code",
   "execution_count": 81,
   "id": "13e1663f-ab6c-4ff5-9361-f611874a1f99",
   "metadata": {},
   "outputs": [],
   "source": [
    "df.to_csv('Shark_clean.csv', index=False)"
   ]
  }
 ],
 "metadata": {
  "kernelspec": {
   "display_name": "Python 3 (ipykernel)",
   "language": "python",
   "name": "python3"
  },
  "language_info": {
   "codemirror_mode": {
    "name": "ipython",
    "version": 3
   },
   "file_extension": ".py",
   "mimetype": "text/x-python",
   "name": "python",
   "nbconvert_exporter": "python",
   "pygments_lexer": "ipython3",
   "version": "3.9.7"
  }
 },
 "nbformat": 4,
 "nbformat_minor": 5
}
